{
  "cells": [
    {
      "cell_type": "markdown",
      "metadata": {
        "id": "VLHbL42I7e0E"
      },
      "source": [
        "# Trabajo Práctico 2: Modelo de Lenguaje\n",
        "\n",
        "### Francisco Mendizábal (61454)\n",
        "### Agustin Vazquez (61420)\n",
        "### Sebastian N. Herrera (61457)\n",
        "\n",
        "\n",
        "keras.io/api/keras_nlp/metrics/perplexity"
      ]
    },
    {
      "cell_type": "code",
      "execution_count": null,
      "metadata": {
        "id": "Kt6beCJ57bZS",
        "colab": {
          "base_uri": "https://localhost:8080/"
        },
        "outputId": "eb9d6bb6-6b1a-4bb3-ae35-baa5dfa25d6b"
      },
      "outputs": [
        {
          "output_type": "stream",
          "name": "stdout",
          "text": [
            "Mounted at /content/drive\n"
          ]
        }
      ],
      "source": [
        "from sklearn.datasets import fetch_20newsgroups\n",
        "from matplotlib import pyplot as plt\n",
        "from collections import Counter\n",
        "from keras.preprocessing.text import Tokenizer, text_to_word_sequence\n",
        "from keras.utils import pad_sequences\n",
        "import numpy as np\n",
        "import gensim\n",
        "import os, re, csv, math, codecs\n",
        "from google.colab import drive\n",
        "drive.mount('/content/drive')"
      ]
    },
    {
      "cell_type": "markdown",
      "metadata": {
        "id": "ynobvIHT--mv"
      },
      "source": [
        "## Setup"
      ]
    },
    {
      "cell_type": "markdown",
      "source": [
        "La forma de tomar el set de entrenamiento consistió en primero utilizar el texto de \"Frankenstein\" y construir un vocabulario con las N palabras más probables.\n",
        "\n",
        "Luego, para cada una de esas palabras, se tomaron las M palabras anteriores, reemplazando por UNK las palabras de x_train que no se encuentran en el diccionario. De esta manera, las palabras UNK se utilizan para entrenar la red, de forma que la estructura de la oración se mantenga. Sin embargo, no notamos diferencias respecto a solo tomar en x_train las palabras dentro del diccionario.\n",
        "\n",
        "Algo que si influyó considerablemente en el resultado, fue eliminar los UNK de y_train, ya que debido a que el diccionario fue reducido, su probabilidad de ocurrencia era bastante alta, impidiendo predecir palabras."
      ],
      "metadata": {
        "id": "A0Pu8bvEljAV"
      }
    },
    {
      "cell_type": "code",
      "source": [
        "#load embeddings\n",
        "print('loading word embeddings...')\n",
        "embeddings_index = {}\n",
        "f = codecs.open('/content/drive/My Drive/Redes_2/wiki-news-300d-1M.vec', encoding='utf-8')\n",
        "for line in f:\n",
        "    values = line.rstrip().rsplit(' ')\n",
        "    word = values[0]\n",
        "    coefs = np.asarray(values[1:], dtype='float32')\n",
        "    embeddings_index[word] = coefs\n",
        "f.close()\n",
        "print('found %s word vectors' % len(embeddings_index))"
      ],
      "metadata": {
        "colab": {
          "base_uri": "https://localhost:8080/"
        },
        "id": "6lg4S4N5T5Sj",
        "outputId": "b22e99ed-ae2d-4a4a-d25d-26038c84b709"
      },
      "execution_count": null,
      "outputs": [
        {
          "output_type": "stream",
          "name": "stdout",
          "text": [
            "loading word embeddings...\n",
            "found 999995 word vectors\n"
          ]
        }
      ]
    },
    {
      "cell_type": "code",
      "execution_count": null,
      "metadata": {
        "id": "XqaBf6Hr_GWt"
      },
      "outputs": [],
      "source": [
        "book = open('/content/drive/My Drive/Redes_2/Frankenstein.txt').read()"
      ]
    },
    {
      "cell_type": "code",
      "execution_count": null,
      "metadata": {
        "id": "quaQohV7-0cF"
      },
      "outputs": [],
      "source": [
        "nwords = 500\n",
        "#token = Tokenizer(num_words=nwords, filters='!\"#$%&()*+,-./:;<=>?@[\\\\]^_`{|}~\\t\\n’‘“”—', lower=True, split=' ', char_level=False, document_count=0)\n",
        "token = Tokenizer(num_words=nwords, filters='!\"#$%&()*+,-./:;<=>?@[\\\\]^_`{|}~\\t\\n’‘“”—', lower=True, split=' ', char_level=False, oov_token=\"UNK\", document_count=0)"
      ]
    },
    {
      "cell_type": "code",
      "execution_count": null,
      "metadata": {
        "id": "5e7VTWmRK28C"
      },
      "outputs": [],
      "source": [
        "words = text_to_word_sequence(book, filters='!\"#$%&()*+,-./:;<=>?@[\\\\]^_`{|}~\\t\\n’‘“”—')"
      ]
    },
    {
      "cell_type": "code",
      "source": [
        "token.fit_on_texts(words)"
      ],
      "metadata": {
        "id": "ihE7stexQ2zR"
      },
      "execution_count": null,
      "outputs": []
    },
    {
      "cell_type": "code",
      "source": [
        "# Creo el diccionario con las n palabras mas probables\n",
        "sorted_keys = sorted(token.word_counts, key=token.word_counts.get, reverse=True)[:nwords]\n",
        "word_distribution = sorted(list(token.word_docs.values()), reverse=True)[:nwords]\n",
        "word_distribution = word_distribution / np.sum(word_distribution)\n",
        "dictionary = dict((key, value+2) for (value, key) in enumerate(sorted_keys))\n",
        "reverse_dictionary = dict([(value+2, key) for (value, key) in enumerate(dictionary.keys())])"
      ],
      "metadata": {
        "id": "aMIAHHPPgQJX"
      },
      "execution_count": null,
      "outputs": []
    },
    {
      "cell_type": "code",
      "source": [
        "print(sorted_keys[:5])\n",
        "print(word_distribution[:5])\n",
        "print(dictionary)\n",
        "print(reverse_dictionary)"
      ],
      "metadata": {
        "colab": {
          "base_uri": "https://localhost:8080/"
        },
        "id": "zhXF3s0FnkJE",
        "outputId": "b33d90a1-d69d-42b5-833b-d0ccd2832f7c"
      },
      "execution_count": null,
      "outputs": [
        {
          "output_type": "stream",
          "name": "stdout",
          "text": [
            "['the', 'and', 'i', 'of', 'to']\n",
            "[0.07616038 0.05404228 0.05175419 0.04797705 0.03802571]\n",
            "{'the': 2, 'and': 3, 'i': 4, 'of': 5, 'to': 6, 'my': 7, 'a': 8, 'in': 9, 'was': 10, 'that': 11, 'me': 12, 'but': 13, 'had': 14, 'with': 15, 'he': 16, 'you': 17, 'which': 18, 'it': 19, 'his': 20, 'as': 21, 'not': 22, 'for': 23, 'by': 24, 'on': 25, 'this': 26, 'from': 27, 'her': 28, 'have': 29, 'be': 30, 'when': 31, 'at': 32, 'were': 33, 'is': 34, 'she': 35, 'your': 36, 'him': 37, 'an': 38, 'they': 39, 'so': 40, 'one': 41, 'all': 42, 'could': 43, 'will': 44, 'if': 45, 'been': 46, 'their': 47, 'would': 48, 'are': 49, 'or': 50, 'we': 51, 'who': 52, 'no': 53, 'more': 54, 'now': 55, 'these': 56, 'should': 57, 'yet': 58, 'some': 59, 'before': 60, 'man': 61, 'myself': 62, 'father': 63, 'what': 64, 'them': 65, 'am': 66, 'upon': 67, 'our': 68, 'into': 69, 'its': 70, 'only': 71, 'did': 72, 'do': 73, 'life': 74, 'than': 75, 'every': 76, 'then': 77, 'first': 78, 'might': 79, 'own': 80, 'shall': 81, 'eyes': 82, 'said': 83, 'may': 84, 'time': 85, 'being': 86, 'towards': 87, 'how': 88, 'even': 89, 'saw': 90, 'can': 91, 'night': 92, 'elizabeth': 93, 'those': 94, 'most': 95, 'such': 96, 'found': 97, 's': 98, 'ever': 99, 'mind': 100, 'any': 101, 'again': 102, 'day': 103, 'there': 104, 'heart': 105, 'felt': 106, 'whom': 107, 'death': 108, 'after': 109, 'where': 110, 'feelings': 111, 'other': 112, 'very': 113, 'thought': 114, 'dear': 115, 'soon': 116, 'friend': 117, 'up': 118, 'made': 119, 'never': 120, 'many': 121, 'still': 122, 'while': 123, 'passed': 124, 'during': 125, 'also': 126, 'thus': 127, 'miserable': 128, 'has': 129, 'must': 130, 'place': 131, 'like': 132, 'same': 133, 'heard': 134, 'became': 135, 'few': 136, 'sometimes': 137, 'us': 138, 'love': 139, 'clerval': 140, 'over': 141, 'little': 142, 'human': 143, 'appeared': 144, 'indeed': 145, 'often': 146, 'justine': 147, 'country': 148, 'misery': 149, 'words': 150, 'friends': 151, 'about': 152, 'nature': 153, 'although': 154, 'until': 155, 'several': 156, 'among': 157, 'cottage': 158, 'feel': 159, 'whose': 160, 'great': 161, 'see': 162, 'old': 163, 'away': 164, 'hope': 165, 'felix': 166, 'well': 167, 'return': 168, 'happiness': 169, 'know': 170, 'despair': 171, 'long': 172, 'through': 173, 'another': 174, 'days': 175, 'cannot': 176, 'voice': 177, 'happy': 178, 'sun': 179, 'world': 180, 'poor': 181, 'horror': 182, 'much': 183, 'years': 184, 'men': 185, 'creature': 186, 'alone': 187, 'scene': 188, 'ice': 189, 'light': 190, 'joy': 191, 'came': 192, 'fear': 193, 'affection': 194, 'house': 195, 'far': 196, 'power': 197, 'part': 198, 'near': 199, 'months': 200, 'nothing': 201, 'out': 202, 'morning': 203, 'countenance': 204, 'new': 205, 'soul': 206, 'thoughts': 207, 'two': 208, 'entered': 209, 'hands': 210, 'almost': 211, 'good': 212, 'himself': 213, 'therefore': 214, 'come': 215, 'pleasure': 216, 'mountains': 217, 'moment': 218, 'possessed': 219, 'make': 220, 'seemed': 221, 'earth': 222, 'took': 223, 'geneva': 224, 'journey': 225, 'here': 226, 'child': 227, 'gentle': 228, 'nor': 229, 'why': 230, 'left': 231, 'fiend': 232, 'sea': 233, 'discovered': 234, 'hours': 235, 'down': 236, 'kind': 237, 'lost': 238, 'spirit': 239, 'cause': 240, 'around': 241, 'continued': 242, 'become': 243, 'last': 244, 'taken': 245, 'work': 246, 'rest': 247, 'knowledge': 248, 'believe': 249, 'mother': 250, 'idea': 251, 'already': 252, 'delight': 253, 'whole': 254, 'resolved': 255, 'once': 256, 'tears': 257, 'sensations': 258, 'however': 259, 'strange': 260, 'room': 261, 'remained': 262, 'tale': 263, 'knew': 264, 'peace': 265, 'gave': 266, 'cold': 267, 'spirits': 268, 'manner': 269, 'returned': 270, 'beheld': 271, 'within': 272, 'existence': 273, 'family': 274, 'monster': 275, 'without': 276, 'present': 277, 'too': 278, 'loved': 279, 'young': 280, 'fellow': 281, 'appearance': 282, 'companion': 283, 'arrived': 284, 'mine': 285, 'think': 286, 'nearly': 287, 'looked': 288, 'letter': 289, 'sister': 290, 'native': 291, 'began': 292, 'read': 293, 'science': 294, 'placed': 295, 'oh': 296, 'desire': 297, 'girl': 298, 'lay': 299, 'change': 300, 'dark': 301, 'brought': 302, 'grief': 303, 'let': 304, 'endeavoured': 305, 'yourself': 306, 'beautiful': 307, 'victor': 308, 'feeling': 309, 'wind': 310, 'beauty': 311, 'thousand': 312, 'since': 313, 'greatest': 314, 'kindness': 315, 'rather': 316, 'replied': 317, 'air': 318, 'length': 319, 'each': 320, 'lake': 321, 'form': 322, 'food': 323, 'hardly': 324, 'murderer': 325, 'various': 326, 'under': 327, 'quickly': 328, 'town': 329, 'perceived': 330, 'beloved': 331, 'suddenly': 332, 'ground': 333, 'seek': 334, 'called': 335, 'expressed': 336, 'hand': 337, 'live': 338, 'lovely': 339, 'henry': 340, 'fire': 341, 'wood': 342, 'frankenstein': 343, 'agony': 344, 'sight': 345, 'cousin': 346, 'hour': 347, 'others': 348, 'greater': 349, 'spent': 350, 'having': 351, 'sat': 352, 'spoke': 353, 'creatures': 354, 'died': 355, 'desired': 356, 'head': 357, 'wretch': 358, 'william': 359, 'rage': 360, 'safie': 361, 'turned': 362, 'brother': 363, 'occupied': 364, 'woman': 365, 'fixed': 366, 'degree': 367, 'wretched': 368, 'state': 369, 'concerning': 370, 'die': 371, 'chapter': 372, 'filled': 373, 'natural': 374, 'always': 375, 'door': 376, 'enemy': 377, 'anguish': 378, 'revenge': 379, 'evil': 380, 'imagination': 381, 'lived': 382, 'body': 383, 'endured': 384, 'hopes': 385, 'find': 386, 'say': 387, 'destroyed': 388, 'means': 389, 'sweet': 390, 'home': 391, 'longer': 392, 'dead': 393, 'm': 394, 'wish': 395, 'free': 396, 'cottagers': 397, 'promise': 398, 'itself': 399, 'leave': 400, 'heaven': 401, 'appear': 402, 'quitted': 403, 'care': 404, 'half': 405, 'take': 406, 'end': 407, 'attention': 408, 'stranger': 409, 'destruction': 410, 'god': 411, 'beings': 412, 'followed': 413, 'sound': 414, 'unable': 415, 'murder': 416, 'agatha': 417, 'england': 418, 'remember': 419, 'sleep': 420, 'remain': 421, 'answer': 422, 'perhaps': 423, 'object': 424, 'true': 425, 'youth': 426, 'wonder': 427, 'observed': 428, 'enter': 429, 'suffered': 430, 'account': 431, 'formed': 432, 'moon': 433, 'vengeance': 434, 'calm': 435, 'land': 436, 'sufficient': 437, 'acquainted': 438, 'path': 439, 'between': 440, 'look': 441, 'went': 442, 'seen': 443, 'wished': 444, 'give': 445, 'deeply': 446, 'drew': 447, 'face': 448, 'entirely': 449, 'ill': 450, 'alas': 451, 'destroy': 452, 'against': 453, 'creator': 454, 'allowed': 455, 'trees': 456, 'murdered': 457, 'spot': 458, 'hear': 459, 'task': 460, 'just': 461, 'history': 462, 'study': 463, 'creation': 464, 'blood': 465, 'none': 466, 'sympathy': 467, 'high': 468, 'progress': 469, 'melancholy': 470, 'health': 471, 'manners': 472, 'deep': 473, 'unhappy': 474, 'language': 475, 'innocent': 476, 'children': 477, 'different': 478, 'forth': 479, 'son': 480, 'steps': 481, 'mountain': 482, 'learned': 483, 'go': 484, 'covered': 485, 'exclaimed': 486, 'sank': 487, 'dared': 488, 'pain': 489, 'approached': 490, 'discovery': 491, 'purpose': 492, 'eye': 493, 'dream': 494, 'courage': 495, 'easily': 496, 'necessary': 497, 'engaged': 498, 'consolation': 499, 'fate': 500, 'continually': 501}\n",
            "{2: 'the', 3: 'and', 4: 'i', 5: 'of', 6: 'to', 7: 'my', 8: 'a', 9: 'in', 10: 'was', 11: 'that', 12: 'me', 13: 'but', 14: 'had', 15: 'with', 16: 'he', 17: 'you', 18: 'which', 19: 'it', 20: 'his', 21: 'as', 22: 'not', 23: 'for', 24: 'by', 25: 'on', 26: 'this', 27: 'from', 28: 'her', 29: 'have', 30: 'be', 31: 'when', 32: 'at', 33: 'were', 34: 'is', 35: 'she', 36: 'your', 37: 'him', 38: 'an', 39: 'they', 40: 'so', 41: 'one', 42: 'all', 43: 'could', 44: 'will', 45: 'if', 46: 'been', 47: 'their', 48: 'would', 49: 'are', 50: 'or', 51: 'we', 52: 'who', 53: 'no', 54: 'more', 55: 'now', 56: 'these', 57: 'should', 58: 'yet', 59: 'some', 60: 'before', 61: 'man', 62: 'myself', 63: 'father', 64: 'what', 65: 'them', 66: 'am', 67: 'upon', 68: 'our', 69: 'into', 70: 'its', 71: 'only', 72: 'did', 73: 'do', 74: 'life', 75: 'than', 76: 'every', 77: 'then', 78: 'first', 79: 'might', 80: 'own', 81: 'shall', 82: 'eyes', 83: 'said', 84: 'may', 85: 'time', 86: 'being', 87: 'towards', 88: 'how', 89: 'even', 90: 'saw', 91: 'can', 92: 'night', 93: 'elizabeth', 94: 'those', 95: 'most', 96: 'such', 97: 'found', 98: 's', 99: 'ever', 100: 'mind', 101: 'any', 102: 'again', 103: 'day', 104: 'there', 105: 'heart', 106: 'felt', 107: 'whom', 108: 'death', 109: 'after', 110: 'where', 111: 'feelings', 112: 'other', 113: 'very', 114: 'thought', 115: 'dear', 116: 'soon', 117: 'friend', 118: 'up', 119: 'made', 120: 'never', 121: 'many', 122: 'still', 123: 'while', 124: 'passed', 125: 'during', 126: 'also', 127: 'thus', 128: 'miserable', 129: 'has', 130: 'must', 131: 'place', 132: 'like', 133: 'same', 134: 'heard', 135: 'became', 136: 'few', 137: 'sometimes', 138: 'us', 139: 'love', 140: 'clerval', 141: 'over', 142: 'little', 143: 'human', 144: 'appeared', 145: 'indeed', 146: 'often', 147: 'justine', 148: 'country', 149: 'misery', 150: 'words', 151: 'friends', 152: 'about', 153: 'nature', 154: 'although', 155: 'until', 156: 'several', 157: 'among', 158: 'cottage', 159: 'feel', 160: 'whose', 161: 'great', 162: 'see', 163: 'old', 164: 'away', 165: 'hope', 166: 'felix', 167: 'well', 168: 'return', 169: 'happiness', 170: 'know', 171: 'despair', 172: 'long', 173: 'through', 174: 'another', 175: 'days', 176: 'cannot', 177: 'voice', 178: 'happy', 179: 'sun', 180: 'world', 181: 'poor', 182: 'horror', 183: 'much', 184: 'years', 185: 'men', 186: 'creature', 187: 'alone', 188: 'scene', 189: 'ice', 190: 'light', 191: 'joy', 192: 'came', 193: 'fear', 194: 'affection', 195: 'house', 196: 'far', 197: 'power', 198: 'part', 199: 'near', 200: 'months', 201: 'nothing', 202: 'out', 203: 'morning', 204: 'countenance', 205: 'new', 206: 'soul', 207: 'thoughts', 208: 'two', 209: 'entered', 210: 'hands', 211: 'almost', 212: 'good', 213: 'himself', 214: 'therefore', 215: 'come', 216: 'pleasure', 217: 'mountains', 218: 'moment', 219: 'possessed', 220: 'make', 221: 'seemed', 222: 'earth', 223: 'took', 224: 'geneva', 225: 'journey', 226: 'here', 227: 'child', 228: 'gentle', 229: 'nor', 230: 'why', 231: 'left', 232: 'fiend', 233: 'sea', 234: 'discovered', 235: 'hours', 236: 'down', 237: 'kind', 238: 'lost', 239: 'spirit', 240: 'cause', 241: 'around', 242: 'continued', 243: 'become', 244: 'last', 245: 'taken', 246: 'work', 247: 'rest', 248: 'knowledge', 249: 'believe', 250: 'mother', 251: 'idea', 252: 'already', 253: 'delight', 254: 'whole', 255: 'resolved', 256: 'once', 257: 'tears', 258: 'sensations', 259: 'however', 260: 'strange', 261: 'room', 262: 'remained', 263: 'tale', 264: 'knew', 265: 'peace', 266: 'gave', 267: 'cold', 268: 'spirits', 269: 'manner', 270: 'returned', 271: 'beheld', 272: 'within', 273: 'existence', 274: 'family', 275: 'monster', 276: 'without', 277: 'present', 278: 'too', 279: 'loved', 280: 'young', 281: 'fellow', 282: 'appearance', 283: 'companion', 284: 'arrived', 285: 'mine', 286: 'think', 287: 'nearly', 288: 'looked', 289: 'letter', 290: 'sister', 291: 'native', 292: 'began', 293: 'read', 294: 'science', 295: 'placed', 296: 'oh', 297: 'desire', 298: 'girl', 299: 'lay', 300: 'change', 301: 'dark', 302: 'brought', 303: 'grief', 304: 'let', 305: 'endeavoured', 306: 'yourself', 307: 'beautiful', 308: 'victor', 309: 'feeling', 310: 'wind', 311: 'beauty', 312: 'thousand', 313: 'since', 314: 'greatest', 315: 'kindness', 316: 'rather', 317: 'replied', 318: 'air', 319: 'length', 320: 'each', 321: 'lake', 322: 'form', 323: 'food', 324: 'hardly', 325: 'murderer', 326: 'various', 327: 'under', 328: 'quickly', 329: 'town', 330: 'perceived', 331: 'beloved', 332: 'suddenly', 333: 'ground', 334: 'seek', 335: 'called', 336: 'expressed', 337: 'hand', 338: 'live', 339: 'lovely', 340: 'henry', 341: 'fire', 342: 'wood', 343: 'frankenstein', 344: 'agony', 345: 'sight', 346: 'cousin', 347: 'hour', 348: 'others', 349: 'greater', 350: 'spent', 351: 'having', 352: 'sat', 353: 'spoke', 354: 'creatures', 355: 'died', 356: 'desired', 357: 'head', 358: 'wretch', 359: 'william', 360: 'rage', 361: 'safie', 362: 'turned', 363: 'brother', 364: 'occupied', 365: 'woman', 366: 'fixed', 367: 'degree', 368: 'wretched', 369: 'state', 370: 'concerning', 371: 'die', 372: 'chapter', 373: 'filled', 374: 'natural', 375: 'always', 376: 'door', 377: 'enemy', 378: 'anguish', 379: 'revenge', 380: 'evil', 381: 'imagination', 382: 'lived', 383: 'body', 384: 'endured', 385: 'hopes', 386: 'find', 387: 'say', 388: 'destroyed', 389: 'means', 390: 'sweet', 391: 'home', 392: 'longer', 393: 'dead', 394: 'm', 395: 'wish', 396: 'free', 397: 'cottagers', 398: 'promise', 399: 'itself', 400: 'leave', 401: 'heaven', 402: 'appear', 403: 'quitted', 404: 'care', 405: 'half', 406: 'take', 407: 'end', 408: 'attention', 409: 'stranger', 410: 'destruction', 411: 'god', 412: 'beings', 413: 'followed', 414: 'sound', 415: 'unable', 416: 'murder', 417: 'agatha', 418: 'england', 419: 'remember', 420: 'sleep', 421: 'remain', 422: 'answer', 423: 'perhaps', 424: 'object', 425: 'true', 426: 'youth', 427: 'wonder', 428: 'observed', 429: 'enter', 430: 'suffered', 431: 'account', 432: 'formed', 433: 'moon', 434: 'vengeance', 435: 'calm', 436: 'land', 437: 'sufficient', 438: 'acquainted', 439: 'path', 440: 'between', 441: 'look', 442: 'went', 443: 'seen', 444: 'wished', 445: 'give', 446: 'deeply', 447: 'drew', 448: 'face', 449: 'entirely', 450: 'ill', 451: 'alas', 452: 'destroy', 453: 'against', 454: 'creator', 455: 'allowed', 456: 'trees', 457: 'murdered', 458: 'spot', 459: 'hear', 460: 'task', 461: 'just', 462: 'history', 463: 'study', 464: 'creation', 465: 'blood', 466: 'none', 467: 'sympathy', 468: 'high', 469: 'progress', 470: 'melancholy', 471: 'health', 472: 'manners', 473: 'deep', 474: 'unhappy', 475: 'language', 476: 'innocent', 477: 'children', 478: 'different', 479: 'forth', 480: 'son', 481: 'steps', 482: 'mountain', 483: 'learned', 484: 'go', 485: 'covered', 486: 'exclaimed', 487: 'sank', 488: 'dared', 489: 'pain', 490: 'approached', 491: 'discovery', 492: 'purpose', 493: 'eye', 494: 'dream', 495: 'courage', 496: 'easily', 497: 'necessary', 498: 'engaged', 499: 'consolation', 500: 'fate', 501: 'continually'}\n"
          ]
        }
      ]
    },
    {
      "cell_type": "code",
      "source": [
        "plt.bar(np.arange(0, nwords), word_distribution)\n",
        "plt.title('Distribución de Palabras')"
      ],
      "metadata": {
        "colab": {
          "base_uri": "https://localhost:8080/",
          "height": 469
        },
        "id": "3ocU8zqT3kCg",
        "outputId": "0f9e8506-41ce-4e8d-8043-0ed277e9f144"
      },
      "execution_count": null,
      "outputs": [
        {
          "output_type": "execute_result",
          "data": {
            "text/plain": [
              "Text(0.5, 1.0, 'Distribución de Palabras')"
            ]
          },
          "metadata": {},
          "execution_count": 9
        },
        {
          "output_type": "display_data",
          "data": {
            "text/plain": [
              "<Figure size 640x480 with 1 Axes>"
            ],
            "image/png": "[encoded data removed]"
          },
          "metadata": {}
        }
      ]
    },
    {
      "cell_type": "markdown",
      "source": [
        "### Embeddings con UNK"
      ],
      "metadata": {
        "id": "fWv6PWsRPKxz"
      }
    },
    {
      "cell_type": "code",
      "source": [
        "wSize = 20\n",
        "texts = []\n",
        "stride = 1\n",
        "\n",
        "# Genero secuencias de texto con el stride correspondiente\n",
        "for i in range(0, len(words)-wSize, stride):\n",
        "    aux:str = ''\n",
        "    for j in range(i, i+wSize):\n",
        "        aux += words[j]\n",
        "        aux += ' '\n",
        "    texts.append(aux)"
      ],
      "metadata": {
        "id": "ncfoPJaMRczi"
      },
      "execution_count": null,
      "outputs": []
    },
    {
      "cell_type": "code",
      "source": [
        "texts[:5]"
      ],
      "metadata": {
        "colab": {
          "base_uri": "https://localhost:8080/"
        },
        "id": "DujPxS84QMbV",
        "outputId": "b65e40dd-b8f9-41e7-a75e-8b560a3a9c23"
      },
      "execution_count": null,
      "outputs": [
        {
          "output_type": "execute_result",
          "data": {
            "text/plain": [
              "['letter 1 to mrs saville england st petersburgh dec 11th 17 you will rejoice to hear that no disaster has ',\n",
              " '1 to mrs saville england st petersburgh dec 11th 17 you will rejoice to hear that no disaster has accompanied ',\n",
              " 'to mrs saville england st petersburgh dec 11th 17 you will rejoice to hear that no disaster has accompanied the ',\n",
              " 'mrs saville england st petersburgh dec 11th 17 you will rejoice to hear that no disaster has accompanied the commencement ',\n",
              " 'saville england st petersburgh dec 11th 17 you will rejoice to hear that no disaster has accompanied the commencement of ']"
            ]
          },
          "metadata": {},
          "execution_count": 11
        }
      ]
    },
    {
      "cell_type": "code",
      "source": [
        "# Me quedo solamente con las secuencias que permiten predecir palabras en el diccionario\n",
        "train_texts = []\n",
        "\n",
        "# Palabras que se deben predecir\n",
        "y_train_words = []\n",
        "\n",
        "for i in range(wSize, len(texts)):\n",
        "    if words[i] in dictionary.keys():\n",
        "        train_texts.append(texts[i-wSize])\n",
        "        y_train_words.append(words[i])\n",
        "\n",
        "# Indices que se deben predecir\n",
        "y_train = [dictionary[word] for word in y_train_words]"
      ],
      "metadata": {
        "id": "4J3PUa0_PJei"
      },
      "execution_count": null,
      "outputs": []
    },
    {
      "cell_type": "code",
      "source": [
        "train_texts[:5]"
      ],
      "metadata": {
        "colab": {
          "base_uri": "https://localhost:8080/"
        },
        "id": "n8-ZWsbtQQKo",
        "outputId": "4af8c854-9e10-4d13-f459-c620f6a20c82"
      },
      "execution_count": null,
      "outputs": [
        {
          "output_type": "execute_result",
          "data": {
            "text/plain": [
              "['1 to mrs saville england st petersburgh dec 11th 17 you will rejoice to hear that no disaster has accompanied ',\n",
              " 'mrs saville england st petersburgh dec 11th 17 you will rejoice to hear that no disaster has accompanied the commencement ',\n",
              " 'saville england st petersburgh dec 11th 17 you will rejoice to hear that no disaster has accompanied the commencement of ',\n",
              " 'st petersburgh dec 11th 17 you will rejoice to hear that no disaster has accompanied the commencement of an enterprise ',\n",
              " 'petersburgh dec 11th 17 you will rejoice to hear that no disaster has accompanied the commencement of an enterprise which ']"
            ]
          },
          "metadata": {},
          "execution_count": 13
        }
      ]
    },
    {
      "cell_type": "code",
      "execution_count": null,
      "metadata": {
        "id": "QTYODyRgAzSG"
      },
      "outputs": [],
      "source": [
        "# Secuencias de palabras que permiten predecir una palabra del diccionario\n",
        "x_train_words = [text_to_word_sequence(text, lower=False) for text in train_texts]\n",
        "\n",
        "# Secuencias de indices que permiten predecir una palabra del diccionario (por ahora no)\n",
        "x_train = token.texts_to_sequences(train_texts)"
      ]
    },
    {
      "cell_type": "code",
      "source": [
        "# Para aplicar mask_zero\n",
        "#x_train = [[x if x!=1 else 0 for x in x_train[i]] for i in range(len(x_train))]"
      ],
      "metadata": {
        "id": "tH_z2M8WXPEP"
      },
      "execution_count": null,
      "outputs": []
    },
    {
      "cell_type": "code",
      "source": [
        "print(len(x_train_words))\n",
        "print(x_train_words[:5])\n",
        "print(np.array(x_train[:5]))"
      ],
      "metadata": {
        "colab": {
          "base_uri": "https://localhost:8080/"
        },
        "id": "2dqdEiS8Sm6a",
        "outputId": "49a6dfab-ece4-4a55-8d99-6d43f3aa39c8"
      },
      "execution_count": null,
      "outputs": [
        {
          "output_type": "stream",
          "name": "stdout",
          "text": [
            "55044\n",
            "[['1', 'to', 'mrs', 'saville', 'england', 'st', 'petersburgh', 'dec', '11th', '17', 'you', 'will', 'rejoice', 'to', 'hear', 'that', 'no', 'disaster', 'has', 'accompanied'], ['mrs', 'saville', 'england', 'st', 'petersburgh', 'dec', '11th', '17', 'you', 'will', 'rejoice', 'to', 'hear', 'that', 'no', 'disaster', 'has', 'accompanied', 'the', 'commencement'], ['saville', 'england', 'st', 'petersburgh', 'dec', '11th', '17', 'you', 'will', 'rejoice', 'to', 'hear', 'that', 'no', 'disaster', 'has', 'accompanied', 'the', 'commencement', 'of'], ['st', 'petersburgh', 'dec', '11th', '17', 'you', 'will', 'rejoice', 'to', 'hear', 'that', 'no', 'disaster', 'has', 'accompanied', 'the', 'commencement', 'of', 'an', 'enterprise'], ['petersburgh', 'dec', '11th', '17', 'you', 'will', 'rejoice', 'to', 'hear', 'that', 'no', 'disaster', 'has', 'accompanied', 'the', 'commencement', 'of', 'an', 'enterprise', 'which']]\n",
            "[[  0   6   0   0 418   0   0   0   0   0  17  44   0   6 459  11  53   0\n",
            "  129   0]\n",
            " [  0   0 418   0   0   0   0   0  17  44   0   6 459  11  53   0 129   0\n",
            "    2   0]\n",
            " [  0 418   0   0   0   0   0  17  44   0   6 459  11  53   0 129   0   2\n",
            "    0   5]\n",
            " [  0   0   0   0   0  17  44   0   6 459  11  53   0 129   0   2   0   5\n",
            "   38   0]\n",
            " [  0   0   0   0  17  44   0   6 459  11  53   0 129   0   2   0   5  38\n",
            "    0  18]]\n"
          ]
        }
      ]
    },
    {
      "cell_type": "code",
      "source": [
        "print(len(y_train_words))\n",
        "print(y_train_words[:5])\n",
        "print(np.array(y_train[:5]))"
      ],
      "metadata": {
        "colab": {
          "base_uri": "https://localhost:8080/"
        },
        "id": "PmW3fEFL6VgS",
        "outputId": "665d56b7-5f7a-4737-f827-31e58371f254"
      },
      "execution_count": null,
      "outputs": [
        {
          "output_type": "stream",
          "name": "stdout",
          "text": [
            "55044\n",
            "['the', 'of', 'an', 'which', 'you']\n",
            "[ 2  5 38 18 17]\n"
          ]
        }
      ]
    },
    {
      "cell_type": "code",
      "execution_count": null,
      "metadata": {
        "id": "kiTJcaQkSCEF"
      },
      "outputs": [],
      "source": [
        "embed_dim = 300\n",
        "embedding_matrix = np.zeros([nwords, embed_dim])\n",
        "for word, idx in dictionary.items():\n",
        "    if idx < nwords and word in embeddings_index:\n",
        "        embedding_matrix[idx,:] = embeddings_index[word]"
      ]
    },
    {
      "cell_type": "markdown",
      "source": [
        "## Redes"
      ],
      "metadata": {
        "id": "Xy0hyfm8A0uS"
      }
    },
    {
      "cell_type": "markdown",
      "source": [
        "Se probaron una red LTSM, una simple RNN, una CNN y una GRU. Si bien ninguna tuvo una gran performance, notamos que el mejor resultado se obtiene con LTSM, analizando los resultados obtenidos al realizar las predicciones de texto con distintas temperaturas.\n",
        "\n",
        "Se probó modificar parametros adicionales, como la inserción o eliminación de la capa bidireccional, los mecanismos de attention y/o repeated attention, y agregar mask_zero. Se probo diferentes tipos de activación dentro de las limitaciones de hardware disponible (como usar tanh en LSTM ya que de otra manera perdemos el uso de la GPU proporcionada por colab).\n",
        "El beneficio casi nulo de hacer estas cosas frente a los tiempos de entrenamiento, nos llevo a hacer una red simple que se pudiera replicar en todos los casos. Se tomo de base el siguiente video para la confección de la misma y la idea de trabajo: https://youtu.be/ZMudJXhsUpY?si=eHjODJ7vITktnRJW.\n",
        "Pese a las numerosas modificaciones aplicadas sobre el modelo, ninguno de los casos se observaron diferencias notables, probablemente debido a la baja performance de la red.\n",
        "El verdadero beneficio se encontro al eliminar restricciones impuestas al modelo, como el DropoutRate o el EarlyStopping; al permitir que nuestro modelo overfitee obtiene mejores resultados sobre las predicciones realizadas mas adelante.\n",
        "\n",
        "Cabe destacar que al overfittear cualquiera de las redes los resultados mejoran, lo cual tiene sentido pues se empiezan a imitar oraciones textuales del texto original, siempre y cuando las palabras a predecir se encuentren en el vocabulario.\n",
        "\n",
        "Medimos la perplejidad de cada una de las redes utilizando frases del propio entrenamiento, logrando resultados demasiado altos cuando la red no está overfitteada. Estos resultados mejoraron notablemente al retirar los UNK (palabras desconocidas por el diccionario de nuestra red) de los elementos a evaluar, error que estabamos cometiendo en un principio pero que se identifico y corrigio de manera exitosa."
      ],
      "metadata": {
        "id": "8KZmN9ZwidKu"
      }
    },
    {
      "cell_type": "markdown",
      "source": [
        "### LTSM"
      ],
      "metadata": {
        "id": "B6c-rRZ4A5fw"
      }
    },
    {
      "cell_type": "code",
      "source": [
        "import tensorflow as tf\n",
        "from tensorflow import keras\n",
        "from keras.layers import Embedding, Conv1D, MaxPooling1D, BatchNormalization, GlobalMaxPooling1D, Dropout, Dense, Lambda, MaxPooling1D, Input, Concatenate, SimpleRNN, Dot, RepeatVector, TimeDistributed, Multiply, Lambda, Flatten, Activation, GRU, Reshape, Bidirectional, LSTM\n",
        "from keras.models import Sequential, Model\n",
        "from keras import optimizers\n",
        "from keras.callbacks import EarlyStopping, LearningRateScheduler, ReduceLROnPlateau\n",
        "from keras.activations import softmax\n",
        "import keras.backend as K\n",
        "from keras.utils import plot_model"
      ],
      "metadata": {
        "id": "-q39Qw_ZdTby"
      },
      "execution_count": null,
      "outputs": []
    },
    {
      "cell_type": "code",
      "source": [
        "value_dim=100\n",
        "K.clear_session()\n",
        "def softMaxOverTime(x):\n",
        "    return softmax(x, axis=1)\n",
        "\n",
        "nb_words = nwords\n",
        "num_filters = 64\n",
        "input_layer = Input(shape=(wSize,))\n",
        "embedding_layer = Embedding(nb_words, embed_dim, weights=[embedding_matrix], input_length=wSize, trainable=False, mask_zero=True)(input_layer)\n",
        "\n",
        "# lstm_out=Bidirectional(LSTM(value_dim, return_sequences=True))(embedding_layer)\n",
        "# lstm_out=Bidirectional(LSTM(value_dim, return_sequences=True))(lstm_out)\n",
        "lstm_out = Bidirectional(LSTM(value_dim, return_sequences=True, activation=\"tanh\"), merge_mode=\"sum\")(embedding_layer)\n",
        "#lstm_out = Bidirectional(LSTM(value_dim, return_sequences=True, activation=\"tanh\"), merge_mode=\"sum\")(lstm_out)  # Si se cambia la funcion de activacion, no usa la GPU\n",
        "\n",
        "ulog_attention = Dense(1, activation=\"linear\")(lstm_out)\n",
        "attention=Activation(softMaxOverTime)(ulog_attention)\n",
        "#repeated_attention = TimeDistributed(RepeatVector(value_dim))(attention)\n",
        "#repeated_attention = Reshape([wSize, value_dim])(repeated_attention)\n",
        "#weighted_embeddings = Multiply()([repeated_attention, lstm_out])\n",
        "weighted_embeddings = Multiply()([attention, lstm_out])\n",
        "embedding_sum = Lambda(lambda x: K.sum(x, axis=1))(weighted_embeddings)\n",
        "\n",
        "dense1 = Dense(100, activation='relu')(embedding_sum)\n",
        "#dense1 = Dense(200, activation='relu')(dense1)\n",
        "#dense1 = Dense(300, activation='relu')(dense1)\n",
        "#dense1 = Dense(400, activation='relu')(dense1)\n",
        "dense2 = Dense(nwords+2, activation='softmax')(dense1)    # se suma 2: 1 porque el diccionario arranca en 1\n",
        "                                                          # y otro 1 por el caracter UNK\n",
        "model = Model(input_layer, dense2)\n",
        "adam = optimizers.Adam(learning_rate=0.01)\n",
        "model.compile(loss='sparse_categorical_crossentropy',\n",
        "              optimizer=adam,\n",
        "              metrics=['sparse_categorical_crossentropy'])"
      ],
      "metadata": {
        "id": "061KQ1ebv9nx"
      },
      "execution_count": null,
      "outputs": []
    },
    {
      "cell_type": "code",
      "source": [
        "#model.load_weights('/content/drive/My Drive/Redes_2/modelLTSM (1).h5')"
      ],
      "metadata": {
        "id": "rCBnhJHqA87e"
      },
      "execution_count": null,
      "outputs": []
    },
    {
      "cell_type": "code",
      "source": [
        "#'''\n",
        "#callback = EarlyStopping(monitor='val_loss', min_delta=0, patience=10, restore_best_weights=True)\n",
        "reduceLR = ReduceLROnPlateau(monitor='val_loss', factor=0.5, patience=10, verbose=False, min_delta=0, cooldown=0, min_lr=1e-6)\n",
        "history = model.fit(np.array(x_train), np.array(y_train), batch_size=256, epochs=50, validation_split=0.2, callbacks=[reduceLR], shuffle=True)\n",
        "#'''"
      ],
      "metadata": {
        "id": "SyP8KK-Kdq_y",
        "colab": {
          "base_uri": "https://localhost:8080/"
        },
        "outputId": "8361f294-3be2-4d29-dce3-efed83bd6b86"
      },
      "execution_count": null,
      "outputs": [
        {
          "output_type": "stream",
          "name": "stdout",
          "text": [
            "Epoch 1/50\n",
            "173/173 [==============================] - 32s 129ms/step - loss: 4.8182 - sparse_categorical_crossentropy: 4.8182 - val_loss: 4.5480 - val_sparse_categorical_crossentropy: 4.5480 - lr: 0.0100\n",
            "Epoch 2/50\n",
            "173/173 [==============================] - 21s 123ms/step - loss: 4.3858 - sparse_categorical_crossentropy: 4.3858 - val_loss: 4.4543 - val_sparse_categorical_crossentropy: 4.4543 - lr: 0.0100\n",
            "Epoch 3/50\n",
            "173/173 [==============================] - 20s 115ms/step - loss: 4.2484 - sparse_categorical_crossentropy: 4.2484 - val_loss: 4.4082 - val_sparse_categorical_crossentropy: 4.4082 - lr: 0.0100\n",
            "Epoch 4/50\n",
            "173/173 [==============================] - 23s 133ms/step - loss: 4.1406 - sparse_categorical_crossentropy: 4.1406 - val_loss: 4.3656 - val_sparse_categorical_crossentropy: 4.3656 - lr: 0.0100\n",
            "Epoch 5/50\n",
            "173/173 [==============================] - 20s 118ms/step - loss: 4.0653 - sparse_categorical_crossentropy: 4.0653 - val_loss: 4.3777 - val_sparse_categorical_crossentropy: 4.3777 - lr: 0.0100\n",
            "Epoch 6/50\n",
            "173/173 [==============================] - 21s 122ms/step - loss: 3.9834 - sparse_categorical_crossentropy: 3.9834 - val_loss: 4.4243 - val_sparse_categorical_crossentropy: 4.4243 - lr: 0.0100\n",
            "Epoch 7/50\n",
            "173/173 [==============================] - 20s 113ms/step - loss: 3.8924 - sparse_categorical_crossentropy: 3.8924 - val_loss: 4.4430 - val_sparse_categorical_crossentropy: 4.4430 - lr: 0.0100\n",
            "Epoch 8/50\n",
            "173/173 [==============================] - 22s 125ms/step - loss: 3.8092 - sparse_categorical_crossentropy: 3.8092 - val_loss: 4.4643 - val_sparse_categorical_crossentropy: 4.4643 - lr: 0.0100\n",
            "Epoch 9/50\n",
            "173/173 [==============================] - 19s 112ms/step - loss: 3.7217 - sparse_categorical_crossentropy: 3.7217 - val_loss: 4.5424 - val_sparse_categorical_crossentropy: 4.5424 - lr: 0.0100\n",
            "Epoch 10/50\n",
            "173/173 [==============================] - 21s 123ms/step - loss: 3.6164 - sparse_categorical_crossentropy: 3.6164 - val_loss: 4.6370 - val_sparse_categorical_crossentropy: 4.6370 - lr: 0.0100\n",
            "Epoch 11/50\n",
            "173/173 [==============================] - 20s 113ms/step - loss: 3.5065 - sparse_categorical_crossentropy: 3.5065 - val_loss: 4.7299 - val_sparse_categorical_crossentropy: 4.7299 - lr: 0.0100\n",
            "Epoch 12/50\n",
            "173/173 [==============================] - 21s 122ms/step - loss: 3.4273 - sparse_categorical_crossentropy: 3.4273 - val_loss: 4.8936 - val_sparse_categorical_crossentropy: 4.8936 - lr: 0.0100\n",
            "Epoch 13/50\n",
            "173/173 [==============================] - 20s 115ms/step - loss: 3.3222 - sparse_categorical_crossentropy: 3.3222 - val_loss: 4.9663 - val_sparse_categorical_crossentropy: 4.9663 - lr: 0.0100\n",
            "Epoch 14/50\n",
            "173/173 [==============================] - 20s 117ms/step - loss: 3.1957 - sparse_categorical_crossentropy: 3.1957 - val_loss: 5.0290 - val_sparse_categorical_crossentropy: 5.0290 - lr: 0.0100\n",
            "Epoch 15/50\n",
            "173/173 [==============================] - 21s 123ms/step - loss: 2.9292 - sparse_categorical_crossentropy: 2.9292 - val_loss: 5.3363 - val_sparse_categorical_crossentropy: 5.3363 - lr: 0.0050\n",
            "Epoch 16/50\n",
            "173/173 [==============================] - 22s 125ms/step - loss: 2.7673 - sparse_categorical_crossentropy: 2.7673 - val_loss: 5.5480 - val_sparse_categorical_crossentropy: 5.5480 - lr: 0.0050\n",
            "Epoch 17/50\n",
            "173/173 [==============================] - 19s 113ms/step - loss: 2.6693 - sparse_categorical_crossentropy: 2.6693 - val_loss: 5.6783 - val_sparse_categorical_crossentropy: 5.6783 - lr: 0.0050\n",
            "Epoch 18/50\n",
            "173/173 [==============================] - 21s 121ms/step - loss: 2.5647 - sparse_categorical_crossentropy: 2.5647 - val_loss: 5.8952 - val_sparse_categorical_crossentropy: 5.8952 - lr: 0.0050\n",
            "Epoch 19/50\n",
            "173/173 [==============================] - 20s 116ms/step - loss: 2.4727 - sparse_categorical_crossentropy: 2.4727 - val_loss: 6.0787 - val_sparse_categorical_crossentropy: 6.0787 - lr: 0.0050\n",
            "Epoch 20/50\n",
            "173/173 [==============================] - 20s 114ms/step - loss: 2.3776 - sparse_categorical_crossentropy: 2.3776 - val_loss: 6.1880 - val_sparse_categorical_crossentropy: 6.1880 - lr: 0.0050\n",
            "Epoch 21/50\n",
            "173/173 [==============================] - 21s 120ms/step - loss: 2.2975 - sparse_categorical_crossentropy: 2.2975 - val_loss: 6.4848 - val_sparse_categorical_crossentropy: 6.4848 - lr: 0.0050\n",
            "Epoch 22/50\n",
            "173/173 [==============================] - 20s 113ms/step - loss: 2.3103 - sparse_categorical_crossentropy: 2.3103 - val_loss: 6.5965 - val_sparse_categorical_crossentropy: 6.5965 - lr: 0.0050\n",
            "Epoch 23/50\n",
            "173/173 [==============================] - 21s 122ms/step - loss: 2.1437 - sparse_categorical_crossentropy: 2.1437 - val_loss: 6.8653 - val_sparse_categorical_crossentropy: 6.8653 - lr: 0.0050\n",
            "Epoch 24/50\n",
            "173/173 [==============================] - 19s 113ms/step - loss: 2.0597 - sparse_categorical_crossentropy: 2.0597 - val_loss: 7.0689 - val_sparse_categorical_crossentropy: 7.0689 - lr: 0.0050\n",
            "Epoch 25/50\n",
            "173/173 [==============================] - 21s 123ms/step - loss: 1.8306 - sparse_categorical_crossentropy: 1.8306 - val_loss: 7.4317 - val_sparse_categorical_crossentropy: 7.4317 - lr: 0.0025\n",
            "Epoch 26/50\n",
            "173/173 [==============================] - 19s 113ms/step - loss: 1.7109 - sparse_categorical_crossentropy: 1.7109 - val_loss: 7.6774 - val_sparse_categorical_crossentropy: 7.6774 - lr: 0.0025\n",
            "Epoch 27/50\n",
            "173/173 [==============================] - 21s 124ms/step - loss: 1.6525 - sparse_categorical_crossentropy: 1.6525 - val_loss: 7.8797 - val_sparse_categorical_crossentropy: 7.8797 - lr: 0.0025\n",
            "Epoch 28/50\n",
            "173/173 [==============================] - 20s 113ms/step - loss: 1.6068 - sparse_categorical_crossentropy: 1.6068 - val_loss: 8.0986 - val_sparse_categorical_crossentropy: 8.0986 - lr: 0.0025\n",
            "Epoch 29/50\n",
            "173/173 [==============================] - 21s 123ms/step - loss: 1.5380 - sparse_categorical_crossentropy: 1.5380 - val_loss: 8.2838 - val_sparse_categorical_crossentropy: 8.2838 - lr: 0.0025\n",
            "Epoch 30/50\n",
            "173/173 [==============================] - 20s 113ms/step - loss: 1.5007 - sparse_categorical_crossentropy: 1.5007 - val_loss: 8.4714 - val_sparse_categorical_crossentropy: 8.4714 - lr: 0.0025\n",
            "Epoch 31/50\n",
            "173/173 [==============================] - 20s 118ms/step - loss: 1.4698 - sparse_categorical_crossentropy: 1.4698 - val_loss: 8.7069 - val_sparse_categorical_crossentropy: 8.7069 - lr: 0.0025\n",
            "Epoch 32/50\n",
            "173/173 [==============================] - 20s 117ms/step - loss: 1.4122 - sparse_categorical_crossentropy: 1.4122 - val_loss: 8.8793 - val_sparse_categorical_crossentropy: 8.8793 - lr: 0.0025\n",
            "Epoch 33/50\n",
            "173/173 [==============================] - 20s 114ms/step - loss: 1.4089 - sparse_categorical_crossentropy: 1.4089 - val_loss: 9.0479 - val_sparse_categorical_crossentropy: 9.0479 - lr: 0.0025\n",
            "Epoch 34/50\n",
            "173/173 [==============================] - 21s 121ms/step - loss: 1.3456 - sparse_categorical_crossentropy: 1.3456 - val_loss: 9.2153 - val_sparse_categorical_crossentropy: 9.2153 - lr: 0.0025\n",
            "Epoch 35/50\n",
            "173/173 [==============================] - 19s 111ms/step - loss: 1.2202 - sparse_categorical_crossentropy: 1.2202 - val_loss: 9.4569 - val_sparse_categorical_crossentropy: 9.4569 - lr: 0.0012\n",
            "Epoch 36/50\n",
            "173/173 [==============================] - 21s 122ms/step - loss: 1.1563 - sparse_categorical_crossentropy: 1.1563 - val_loss: 9.6395 - val_sparse_categorical_crossentropy: 9.6395 - lr: 0.0012\n",
            "Epoch 37/50\n",
            "173/173 [==============================] - 20s 114ms/step - loss: 1.1261 - sparse_categorical_crossentropy: 1.1261 - val_loss: 9.8164 - val_sparse_categorical_crossentropy: 9.8164 - lr: 0.0012\n",
            "Epoch 38/50\n",
            "173/173 [==============================] - 21s 123ms/step - loss: 1.1086 - sparse_categorical_crossentropy: 1.1086 - val_loss: 9.9476 - val_sparse_categorical_crossentropy: 9.9476 - lr: 0.0012\n",
            "Epoch 39/50\n",
            "173/173 [==============================] - 20s 114ms/step - loss: 1.0872 - sparse_categorical_crossentropy: 1.0872 - val_loss: 10.0983 - val_sparse_categorical_crossentropy: 10.0983 - lr: 0.0012\n",
            "Epoch 40/50\n",
            "173/173 [==============================] - 21s 123ms/step - loss: 1.0721 - sparse_categorical_crossentropy: 1.0721 - val_loss: 10.2081 - val_sparse_categorical_crossentropy: 10.2081 - lr: 0.0012\n",
            "Epoch 41/50\n",
            "173/173 [==============================] - 19s 112ms/step - loss: 1.0467 - sparse_categorical_crossentropy: 1.0467 - val_loss: 10.3837 - val_sparse_categorical_crossentropy: 10.3837 - lr: 0.0012\n",
            "Epoch 42/50\n",
            "173/173 [==============================] - 21s 119ms/step - loss: 1.0108 - sparse_categorical_crossentropy: 1.0108 - val_loss: 10.5028 - val_sparse_categorical_crossentropy: 10.5028 - lr: 0.0012\n",
            "Epoch 43/50\n",
            "173/173 [==============================] - 20s 115ms/step - loss: 0.9900 - sparse_categorical_crossentropy: 0.9900 - val_loss: 10.6868 - val_sparse_categorical_crossentropy: 10.6868 - lr: 0.0012\n",
            "Epoch 44/50\n",
            "173/173 [==============================] - 20s 114ms/step - loss: 0.9719 - sparse_categorical_crossentropy: 0.9719 - val_loss: 10.8131 - val_sparse_categorical_crossentropy: 10.8131 - lr: 0.0012\n",
            "Epoch 45/50\n",
            "173/173 [==============================] - 21s 120ms/step - loss: 0.9167 - sparse_categorical_crossentropy: 0.9167 - val_loss: 10.9457 - val_sparse_categorical_crossentropy: 10.9457 - lr: 6.2500e-04\n",
            "Epoch 46/50\n",
            "173/173 [==============================] - 20s 113ms/step - loss: 0.8924 - sparse_categorical_crossentropy: 0.8924 - val_loss: 11.0598 - val_sparse_categorical_crossentropy: 11.0598 - lr: 6.2500e-04\n",
            "Epoch 47/50\n",
            "173/173 [==============================] - 21s 123ms/step - loss: 0.8850 - sparse_categorical_crossentropy: 0.8850 - val_loss: 11.1619 - val_sparse_categorical_crossentropy: 11.1619 - lr: 6.2500e-04\n",
            "Epoch 48/50\n",
            "173/173 [==============================] - 20s 115ms/step - loss: 0.8684 - sparse_categorical_crossentropy: 0.8684 - val_loss: 11.2455 - val_sparse_categorical_crossentropy: 11.2455 - lr: 6.2500e-04\n",
            "Epoch 49/50\n",
            "173/173 [==============================] - 21s 123ms/step - loss: 0.8583 - sparse_categorical_crossentropy: 0.8583 - val_loss: 11.3189 - val_sparse_categorical_crossentropy: 11.3189 - lr: 6.2500e-04\n",
            "Epoch 50/50\n",
            "173/173 [==============================] - 20s 113ms/step - loss: 0.8456 - sparse_categorical_crossentropy: 0.8456 - val_loss: 11.4212 - val_sparse_categorical_crossentropy: 11.4212 - lr: 6.2500e-04\n"
          ]
        }
      ]
    },
    {
      "cell_type": "code",
      "source": [
        "#model.save('/content/drive/My Drive/Redes_2/modelLTSM2.h5')"
      ],
      "metadata": {
        "id": "A6q95GXhBBxm"
      },
      "execution_count": null,
      "outputs": []
    },
    {
      "cell_type": "code",
      "source": [
        "model.summary()"
      ],
      "metadata": {
        "colab": {
          "base_uri": "https://localhost:8080/"
        },
        "id": "FR-8Kp5kdx1q",
        "outputId": "35bc5f91-e685-4e28-dd36-8afa08dd85e3"
      },
      "execution_count": null,
      "outputs": [
        {
          "output_type": "stream",
          "name": "stdout",
          "text": [
            "Model: \"model\"\n",
            "__________________________________________________________________________________________________\n",
            " Layer (type)                Output Shape                 Param #   Connected to                  \n",
            "==================================================================================================\n",
            " input_1 (InputLayer)        [(None, 20)]                 0         []                            \n",
            "                                                                                                  \n",
            " embedding (Embedding)       (None, 20, 300)              150000    ['input_1[0][0]']             \n",
            "                                                                                                  \n",
            " bidirectional (Bidirection  (None, 20, 100)              241200    ['embedding[0][0]']           \n",
            " al)                                                                                              \n",
            "                                                                                                  \n",
            " dense (Dense)               (None, 20, 1)                101       ['bidirectional[0][0]']       \n",
            "                                                                                                  \n",
            " activation (Activation)     (None, 20, 1)                0         ['dense[0][0]']               \n",
            "                                                                                                  \n",
            " time_distributed (TimeDist  (None, 20, 100, 1)           0         ['activation[0][0]']          \n",
            " ributed)                                                                                         \n",
            "                                                                                                  \n",
            " reshape (Reshape)           (None, 20, 100)              0         ['time_distributed[0][0]']    \n",
            "                                                                                                  \n",
            " multiply (Multiply)         (None, 20, 100)              0         ['reshape[0][0]',             \n",
            "                                                                     'bidirectional[0][0]']       \n",
            "                                                                                                  \n",
            " lambda (Lambda)             (None, 100)                  0         ['multiply[0][0]']            \n",
            "                                                                                                  \n",
            " dense_1 (Dense)             (None, 100)                  10100     ['lambda[0][0]']              \n",
            "                                                                                                  \n",
            " dense_2 (Dense)             (None, 200)                  20200     ['dense_1[0][0]']             \n",
            "                                                                                                  \n",
            " dense_3 (Dense)             (None, 300)                  60300     ['dense_2[0][0]']             \n",
            "                                                                                                  \n",
            " dense_4 (Dense)             (None, 400)                  120400    ['dense_3[0][0]']             \n",
            "                                                                                                  \n",
            " dense_5 (Dense)             (None, 502)                  201302    ['dense_4[0][0]']             \n",
            "                                                                                                  \n",
            "==================================================================================================\n",
            "Total params: 803603 (3.07 MB)\n",
            "Trainable params: 653603 (2.49 MB)\n",
            "Non-trainable params: 150000 (585.94 KB)\n",
            "__________________________________________________________________________________________________\n"
          ]
        }
      ]
    },
    {
      "cell_type": "code",
      "source": [
        "def perplexity(model, x_sequences, y_indices, nwords, embedding_matrix):\n",
        "    perp = np.array([])\n",
        "\n",
        "    for i in range(len(x_sequences)):\n",
        "        x_seq = x_sequences[i]\n",
        "        y_idx = y_indices[i]\n",
        "\n",
        "        predicted_probs = model.predict(np.array([x_seq]), verbose=0)[0]\n",
        "\n",
        "        word_prob = predicted_probs[y_idx]\n",
        "\n",
        "        #sequence_perplexity = 2 ** (-np.log2(word_prob))\n",
        "        sequence_perplexity = 1 / word_prob\n",
        "        perp = np.append(perp, sequence_perplexity)\n",
        "\n",
        "    mean_perplexity = np.mean(perp)\n",
        "\n",
        "    return mean_perplexity"
      ],
      "metadata": {
        "id": "gn-TqgYO5omw"
      },
      "execution_count": null,
      "outputs": []
    },
    {
      "cell_type": "code",
      "source": [
        "perplexity = perplexity(model, x_train[:100], y_train[:100], nwords, embedding_matrix)\n",
        "print(\"Perplejidad del modelo:\", perplexity)"
      ],
      "metadata": {
        "colab": {
          "base_uri": "https://localhost:8080/"
        },
        "id": "PnFM-RCbgW5x",
        "outputId": "ed87f518-4c40-44c0-b394-c43f9019153a"
      },
      "execution_count": null,
      "outputs": [
        {
          "output_type": "stream",
          "name": "stdout",
          "text": [
            "Perplejidad del modelo: 23.677313252024614\n"
          ]
        }
      ]
    },
    {
      "cell_type": "markdown",
      "source": [
        "### GRU"
      ],
      "metadata": {
        "id": "SxmJkMepBGYH"
      }
    },
    {
      "cell_type": "code",
      "source": [
        "value_dim=100\n",
        "K.clear_session()\n",
        "\n",
        "nb_words = nwords\n",
        "num_filters = 64\n",
        "input_layer = Input(shape=(wSize,))\n",
        "embedding_layer = Embedding(nb_words, embed_dim, input_length=wSize, trainable=False)(input_layer)\n",
        "\n",
        "gru_out = Bidirectional(GRU(value_dim, return_sequences=True, activation=\"tanh\"), merge_mode=\"sum\")(embedding_layer)\n",
        "\n",
        "ulog_attention = Dense(1, activation=\"linear\")(gru_out)\n",
        "attention = Activation(softMaxOverTime)(ulog_attention)\n",
        "repeated_attention = TimeDistributed(RepeatVector(value_dim))(attention)\n",
        "repeated_attention = Reshape([wSize, value_dim])(repeated_attention)\n",
        "weighted_embeddings = Multiply()([repeated_attention, gru_out])\n",
        "embedding_sum = Lambda(lambda x: K.sum(x, axis=1))(weighted_embeddings)\n",
        "\n",
        "dense1 = Dense(100, activation='relu')(embedding_sum)\n",
        "dense1 = Dense(200, activation='relu')(dense1)\n",
        "dense1 = Dense(300, activation='relu')(dense1)\n",
        "dense1 = Dense(400, activation='relu')(dense1)\n",
        "dense2 = Dense(nwords + 2, activation='softmax')(dense1)\n",
        "\n",
        "model = Model(input_layer, dense2)\n",
        "adam = optimizers.Adam(learning_rate=0.001)\n",
        "model.compile(loss='sparse_categorical_crossentropy',\n",
        "                 optimizer=adam,\n",
        "                 metrics=['sparse_categorical_crossentropy'])"
      ],
      "metadata": {
        "id": "TNBV9KfEBHX_"
      },
      "execution_count": null,
      "outputs": []
    },
    {
      "cell_type": "code",
      "source": [
        "model.load_weights('/content/drive/My Drive/Redes_2/modelGRU (1).h5')"
      ],
      "metadata": {
        "id": "7OZp6mWmBPvW"
      },
      "execution_count": null,
      "outputs": []
    },
    {
      "cell_type": "code",
      "source": [
        "#callback = EarlyStopping(monitor='val_loss', min_delta=0, patience=10, restore_best_weights=True)\n",
        "#reduceLR = ReduceLROnPlateau(monitor='val_loss', factor=0.5, patience=20, verbose=False, min_delta=0, cooldown=0, min_lr=1e-6)\n",
        "#history = model.fit(np.array(x_train), np.array(y_train), batch_size=256, epochs=10, validation_split=0.2, callbacks = [reduceLR])"
      ],
      "metadata": {
        "id": "j5YXT3XaBJoA"
      },
      "execution_count": null,
      "outputs": []
    },
    {
      "cell_type": "code",
      "source": [
        "#model.save('/content/drive/My Drive/Redes_2/modelGRU.h5')"
      ],
      "metadata": {
        "id": "nKmjFhK6BMUC"
      },
      "execution_count": null,
      "outputs": []
    },
    {
      "cell_type": "code",
      "source": [
        "perplexity(model, x_train[:2000], y_train[:2000], nwords, embedding_matrix)"
      ],
      "metadata": {
        "colab": {
          "base_uri": "https://localhost:8080/"
        },
        "id": "5dkp9w6Wnt62",
        "outputId": "ab68824b-7f0c-476e-f766-d7c556d17463"
      },
      "execution_count": null,
      "outputs": [
        {
          "output_type": "stream",
          "name": "stdout",
          "text": []
        },
        {
          "output_type": "execute_result",
          "data": {
            "text/plain": [
              "278.0278722444878"
            ]
          },
          "metadata": {},
          "execution_count": 41
        }
      ]
    },
    {
      "cell_type": "markdown",
      "source": [
        "### SRNN"
      ],
      "metadata": {
        "id": "hlsXJ81ZBQi5"
      }
    },
    {
      "cell_type": "code",
      "source": [
        "value_dim=100\n",
        "K.clear_session()\n",
        "def softMaxOverTime(x):\n",
        "    return softmax(x, axis=1)\n",
        "\n",
        "nb_words = nwords\n",
        "num_filters = 64\n",
        "input_layer = Input(shape=(wSize,))\n",
        "embedding_layer = Embedding(nb_words, embed_dim, weights=[embedding_matrix], input_length=wSize, trainable=False)(input_layer)\n",
        "\n",
        "srnn_out = Bidirectional(SimpleRNN(value_dim, return_sequences=True, activation=\"tanh\"), merge_mode=\"sum\")(embedding_layer)\n",
        "\n",
        "ulog_attention = Dense(1, activation=\"linear\")(srnn_out)\n",
        "attention = Activation(softMaxOverTime)(ulog_attention)\n",
        "repeated_attention = TimeDistributed(RepeatVector(value_dim))(attention)\n",
        "repeated_attention = Reshape([wSize, value_dim])(repeated_attention)\n",
        "weighted_embeddings = Multiply()([repeated_attention, srnn_out])\n",
        "embedding_sum = Lambda(lambda x: K.sum(x, axis=1))(weighted_embeddings)\n",
        "\n",
        "dense1 = Dense(100, activation='relu')(embedding_sum)\n",
        "dense1 = Dense(200, activation='relu')(dense1)\n",
        "dense1 = Dense(300, activation='relu')(dense1)\n",
        "dense1 = Dense(400, activation='relu')(dense1)\n",
        "dense2 = Dense(nwords + 2, activation='softmax')(dense1)\n",
        "\n",
        "model = Model(input_layer, dense2)\n",
        "adam = optimizers.Adam(learning_rate=0.001)\n",
        "model.compile(loss='sparse_categorical_crossentropy',\n",
        "                 optimizer=adam,\n",
        "                 metrics=['sparse_categorical_crossentropy'])"
      ],
      "metadata": {
        "id": "cLqEOXJXBRi2"
      },
      "execution_count": null,
      "outputs": []
    },
    {
      "cell_type": "code",
      "source": [
        "model.load_weights('/content/drive/My Drive/Redes_2/modelSRNN (1).h5')"
      ],
      "metadata": {
        "id": "zcbVJHopBXjg"
      },
      "execution_count": null,
      "outputs": []
    },
    {
      "cell_type": "code",
      "source": [
        "#callback = EarlyStopping(monitor='val_loss', min_delta=0, patience=15, restore_best_weights=True)\n",
        "#reduceLR = ReduceLROnPlateau(monitor='val_loss', factor=0.5, patience=10, verbose=False, min_delta=0, cooldown=0, min_lr=1e-6)\n",
        "#history = model.fit(np.array(x_train), np.array(y_train), batch_size=256, epochs=50, validation_split=0.15, callbacks = [callback, reduceLR])"
      ],
      "metadata": {
        "id": "7cucdiBABTTI"
      },
      "execution_count": null,
      "outputs": []
    },
    {
      "cell_type": "code",
      "source": [
        "#model.save('/content/drive/My Drive/Redes_2/modelSRNN.h5')"
      ],
      "metadata": {
        "id": "RznV_Wm_BVoW"
      },
      "execution_count": null,
      "outputs": []
    },
    {
      "cell_type": "code",
      "source": [
        "perplexity(model, x_train[:2000], y_train[:2000], nwords, embedding_matrix)"
      ],
      "metadata": {
        "colab": {
          "base_uri": "https://localhost:8080/"
        },
        "id": "MWsGSrzqrD3E",
        "outputId": "64b8bc7a-c452-4392-dec2-24bc858d0ba9"
      },
      "execution_count": null,
      "outputs": [
        {
          "output_type": "stream",
          "name": "stdout",
          "text": []
        },
        {
          "output_type": "execute_result",
          "data": {
            "text/plain": [
              "292.38327630059484"
            ]
          },
          "metadata": {},
          "execution_count": 46
        }
      ]
    },
    {
      "cell_type": "markdown",
      "source": [
        "### CNN1D"
      ],
      "metadata": {
        "id": "MPdoxEFJBbD1"
      }
    },
    {
      "cell_type": "code",
      "source": [
        "value_dim=100\n",
        "K.clear_session()\n",
        "\n",
        "nb_words = nwords\n",
        "num_filters = 64\n",
        "input_layer = Input(shape=(wSize,))\n",
        "embedding_layer = Embedding(nb_words, embed_dim, weights=[embedding_matrix], input_length=wSize, trainable=False)(input_layer)\n",
        "cnn_out = (Conv1D(value_dim, kernel_size=3, activation=\"relu\", padding=\"same\"))(embedding_layer)\n",
        "ulog_attention = Dense(1, activation=\"linear\")(cnn_out)\n",
        "attention = Activation(softMaxOverTime)(ulog_attention)\n",
        "repeated_attention = TimeDistributed(RepeatVector(value_dim))(attention)\n",
        "repeated_attention = Reshape([wSize, value_dim])(repeated_attention)\n",
        "weighted_embeddings = Multiply()([repeated_attention, cnn_out])\n",
        "embedding_sum = Lambda(lambda x: K.sum(x, axis=1))(weighted_embeddings)\n",
        "\n",
        "dense1 = Dense(100, activation='relu')(embedding_sum)\n",
        "dense1 = Dense(200, activation='relu')(dense1)\n",
        "dense1 = Dense(300, activation='relu')(dense1)\n",
        "dense1 = Dense(400, activation='relu')(dense1)\n",
        "dense2 = Dense(nwords + 2, activation='softmax')(dense1)\n",
        "\n",
        "model = Model(input_layer, dense2)\n",
        "adam = optimizers.Adam(learning_rate=0.001)\n",
        "model.compile(loss='sparse_categorical_crossentropy',\n",
        "                 optimizer=adam,\n",
        "                 metrics=['sparse_categorical_crossentropy'])"
      ],
      "metadata": {
        "id": "60dLX-TsBcYn"
      },
      "execution_count": null,
      "outputs": []
    },
    {
      "cell_type": "code",
      "source": [
        "model.load_weights('/content/drive/My Drive/Redes_2/modelCNN (1).h5')"
      ],
      "metadata": {
        "id": "8GqtxVOTBjQ9"
      },
      "execution_count": null,
      "outputs": []
    },
    {
      "cell_type": "code",
      "source": [
        "#callback = EarlyStopping(monitor='val_loss', min_delta=0, patience=15, restore_best_weights=True)\n",
        "#reduceLR = ReduceLROnPlateau(monitor='val_loss', factor=0.5, patience=10, verbose=False, min_delta=0, cooldown=0, min_lr=1e-6)\n",
        "#history = model.fit(np.array(x_train), np.array(y_train), batch_size=256, epochs=50, validation_split=0.2, callbacks = [callback, reduceLR])"
      ],
      "metadata": {
        "id": "mc_kRbwnBe6u"
      },
      "execution_count": null,
      "outputs": []
    },
    {
      "cell_type": "code",
      "source": [
        "#model.save('/content/drive/My Drive/Redes_2/modelCNN.h5')"
      ],
      "metadata": {
        "id": "lxJ8QWZnBg6t"
      },
      "execution_count": null,
      "outputs": []
    },
    {
      "cell_type": "code",
      "source": [
        "perplexity(model, x_train[:2000], y_train[:2000], nwords, embedding_matrix)"
      ],
      "metadata": {
        "colab": {
          "base_uri": "https://localhost:8080/"
        },
        "id": "cRvaOdVZuCPq",
        "outputId": "2d855939-669b-4e33-cc0e-cd13689a4a86"
      },
      "execution_count": null,
      "outputs": [
        {
          "output_type": "stream",
          "name": "stdout",
          "text": []
        },
        {
          "output_type": "execute_result",
          "data": {
            "text/plain": [
              "492.03561273784993"
            ]
          },
          "metadata": {},
          "execution_count": 50
        }
      ]
    },
    {
      "cell_type": "markdown",
      "source": [
        "### LTSM con mask_zero"
      ],
      "metadata": {
        "id": "PPeE1SpSiBqM"
      }
    },
    {
      "cell_type": "markdown",
      "source": [
        "mask_zero no presenta grandes mejoras en la red y sin embargo aumenta la complejidad de la misma; viendose reflejado en largos tiempos de entrenamiento por lo que no vemos una utilidad clara al momento de crear nuestro modelo de generacion de texto."
      ],
      "metadata": {
        "id": "044ElQ0P3Taq"
      }
    },
    {
      "cell_type": "code",
      "source": [
        "value_dim=100\n",
        "K.clear_session()\n",
        "def softMaxOverTime(x):\n",
        "    return softmax(x, axis=1)\n",
        "\n",
        "nb_words = nwords\n",
        "num_filters = 64\n",
        "input_layer = Input(shape=(wSize,))\n",
        "embedding_layer = Embedding(nb_words, embed_dim, weights=[embedding_matrix], input_length=wSize, trainable=False, mask_zero=True)(input_layer)\n",
        "\n",
        "lstm_out = Bidirectional(LSTM(value_dim, return_sequences=True, activation=\"tanh\"), merge_mode=\"sum\")(embedding_layer)\n",
        "\n",
        "ulog_attention = Dense(1, activation=\"linear\")(lstm_out)\n",
        "attention=Activation(softMaxOverTime)(ulog_attention)\n",
        "weighted_embeddings = Multiply()([attention, lstm_out])\n",
        "embedding_sum = Lambda(lambda x: K.sum(x, axis=1))(weighted_embeddings)\n",
        "\n",
        "dense1 = Dense(100, activation='relu')(embedding_sum)\n",
        "dense2 = Dense(nwords+2, activation='softmax')(dense1)    # se suma 2: 1 porque el diccionario arranca en 1\n",
        "                                                          # y otro 1 por el caracter UNK\n",
        "model = Model(input_layer, dense2)\n",
        "adam = optimizers.Adam(learning_rate=0.01)\n",
        "model.compile(loss='sparse_categorical_crossentropy',\n",
        "              optimizer=adam,\n",
        "              metrics=['sparse_categorical_crossentropy'])"
      ],
      "metadata": {
        "id": "qQx3p-PMiF30"
      },
      "execution_count": null,
      "outputs": []
    },
    {
      "cell_type": "code",
      "source": [
        "#model.load_weights('/content/drive/My Drive/Redes_2/modelLTSM_zero.h5')"
      ],
      "metadata": {
        "id": "-rIYiy_WiF4O"
      },
      "execution_count": null,
      "outputs": []
    },
    {
      "cell_type": "code",
      "source": [
        "#'''\n",
        "#callback = EarlyStopping(monitor='val_loss', min_delta=0, patience=10, restore_best_weights=True)\n",
        "reduceLR = ReduceLROnPlateau(monitor='val_loss', factor=0.5, patience=10, verbose=False, min_delta=0, cooldown=0, min_lr=1e-6)\n",
        "history = model.fit(np.array(x_train), np.array(y_train), batch_size=256, epochs=50, validation_split=0.2, callbacks=[reduceLR], shuffle=True)\n",
        "#'''"
      ],
      "metadata": {
        "id": "TyZZu60riF4P"
      },
      "execution_count": null,
      "outputs": []
    },
    {
      "cell_type": "code",
      "source": [
        "#model.save('/content/drive/My Drive/Redes_2/modelLTSM2.h5')"
      ],
      "metadata": {
        "id": "Z27vvzKGiF4P"
      },
      "execution_count": null,
      "outputs": []
    },
    {
      "cell_type": "code",
      "source": [
        "model.summary()"
      ],
      "metadata": {
        "colab": {
          "base_uri": "https://localhost:8080/"
        },
        "outputId": "35bc5f91-e685-4e28-dd36-8afa08dd85e3",
        "id": "8wt6EiT8iF4Q"
      },
      "execution_count": null,
      "outputs": [
        {
          "output_type": "stream",
          "name": "stdout",
          "text": [
            "Model: \"model\"\n",
            "__________________________________________________________________________________________________\n",
            " Layer (type)                Output Shape                 Param #   Connected to                  \n",
            "==================================================================================================\n",
            " input_1 (InputLayer)        [(None, 20)]                 0         []                            \n",
            "                                                                                                  \n",
            " embedding (Embedding)       (None, 20, 300)              150000    ['input_1[0][0]']             \n",
            "                                                                                                  \n",
            " bidirectional (Bidirection  (None, 20, 100)              241200    ['embedding[0][0]']           \n",
            " al)                                                                                              \n",
            "                                                                                                  \n",
            " dense (Dense)               (None, 20, 1)                101       ['bidirectional[0][0]']       \n",
            "                                                                                                  \n",
            " activation (Activation)     (None, 20, 1)                0         ['dense[0][0]']               \n",
            "                                                                                                  \n",
            " time_distributed (TimeDist  (None, 20, 100, 1)           0         ['activation[0][0]']          \n",
            " ributed)                                                                                         \n",
            "                                                                                                  \n",
            " reshape (Reshape)           (None, 20, 100)              0         ['time_distributed[0][0]']    \n",
            "                                                                                                  \n",
            " multiply (Multiply)         (None, 20, 100)              0         ['reshape[0][0]',             \n",
            "                                                                     'bidirectional[0][0]']       \n",
            "                                                                                                  \n",
            " lambda (Lambda)             (None, 100)                  0         ['multiply[0][0]']            \n",
            "                                                                                                  \n",
            " dense_1 (Dense)             (None, 100)                  10100     ['lambda[0][0]']              \n",
            "                                                                                                  \n",
            " dense_2 (Dense)             (None, 200)                  20200     ['dense_1[0][0]']             \n",
            "                                                                                                  \n",
            " dense_3 (Dense)             (None, 300)                  60300     ['dense_2[0][0]']             \n",
            "                                                                                                  \n",
            " dense_4 (Dense)             (None, 400)                  120400    ['dense_3[0][0]']             \n",
            "                                                                                                  \n",
            " dense_5 (Dense)             (None, 502)                  201302    ['dense_4[0][0]']             \n",
            "                                                                                                  \n",
            "==================================================================================================\n",
            "Total params: 803603 (3.07 MB)\n",
            "Trainable params: 653603 (2.49 MB)\n",
            "Non-trainable params: 150000 (585.94 KB)\n",
            "__________________________________________________________________________________________________\n"
          ]
        }
      ]
    },
    {
      "cell_type": "markdown",
      "source": [
        "## Generación de Texto"
      ],
      "metadata": {
        "id": "aoyTdqrzj-ac"
      }
    },
    {
      "cell_type": "markdown",
      "source": [
        "Se implementaron los algoritmos solicitados manualmente. Notamos que el aumento de la temperatura en baja medida logra los mejores resultados. Cuando la temperatura es demasiado baja, se entran en loops de palabras e incluso podemos llegar a casos donde sea siempre (o casi siempre) la misma, mientras que una temperatura demasiado alta genera palabras demasiado aleatorias al punto de perder el contexto que se buscaba generar con la red. A continuación se muestran resultados obtenidos con una red overfitteada LSTM."
      ],
      "metadata": {
        "id": "gnhIOmzYkH5l"
      }
    },
    {
      "cell_type": "markdown",
      "source": [
        "### Greedy Search + argmax"
      ],
      "metadata": {
        "id": "ajcBjVSE52ZK"
      }
    },
    {
      "cell_type": "code",
      "source": [
        "def words_to_one_hot(sentence, words, word2idx, window_size):\n",
        "\n",
        "    num_words = len(words)\n",
        "    size = max(len(sentence), window_size)\n",
        "    X = np.zeros((1, size, num_words))\n",
        "    for t, word in enumerate(sentence):\n",
        "        if word not in word2idx:\n",
        "            word = ' '\n",
        "        else:\n",
        "            X[0, t + size - len(sentence), word2idx[word]] = 1\n",
        "    return X"
      ],
      "metadata": {
        "id": "_tGkVVg852Zd"
      },
      "execution_count": null,
      "outputs": []
    },
    {
      "cell_type": "code",
      "source": [
        "#print(len(dictionary.keys()), 'palabras distintas:')\n",
        "#print(dictionary.keys())"
      ],
      "metadata": {
        "id": "2RHNPQVb52Zd"
      },
      "execution_count": null,
      "outputs": []
    },
    {
      "cell_type": "code",
      "source": [
        "# Cargo las traducciones de todas las posibles palabras y sus indices\n",
        "word2idx = dictionary\n",
        "idx2word = reverse_dictionary\n",
        "\n",
        "print(idx2word)\n",
        "print(word2idx)"
      ],
      "metadata": {
        "colab": {
          "base_uri": "https://localhost:8080/"
        },
        "outputId": "86be501e-be1a-429e-86ff-1e352c9ef298",
        "id": "nyCgzsFw52Ze"
      },
      "execution_count": null,
      "outputs": [
        {
          "output_type": "stream",
          "name": "stdout",
          "text": [
            "{2: 'the', 3: 'and', 4: 'i', 5: 'of', 6: 'to', 7: 'my', 8: 'a', 9: 'in', 10: 'was', 11: 'that', 12: 'me', 13: 'but', 14: 'had', 15: 'with', 16: 'he', 17: 'you', 18: 'which', 19: 'it', 20: 'his', 21: 'as', 22: 'not', 23: 'for', 24: 'by', 25: 'on', 26: 'this', 27: 'from', 28: 'her', 29: 'have', 30: 'be', 31: 'when', 32: 'at', 33: 'were', 34: 'is', 35: 'she', 36: 'your', 37: 'him', 38: 'an', 39: 'they', 40: 'so', 41: 'one', 42: 'all', 43: 'could', 44: 'will', 45: 'if', 46: 'been', 47: 'their', 48: 'would', 49: 'are', 50: 'or', 51: 'we', 52: 'who', 53: 'no', 54: 'more', 55: 'now', 56: 'these', 57: 'should', 58: 'yet', 59: 'some', 60: 'before', 61: 'man', 62: 'myself', 63: 'father', 64: 'what', 65: 'them', 66: 'am', 67: 'upon', 68: 'our', 69: 'into', 70: 'its', 71: 'only', 72: 'did', 73: 'do', 74: 'life', 75: 'than', 76: 'every', 77: 'then', 78: 'first', 79: 'might', 80: 'own', 81: 'shall', 82: 'eyes', 83: 'said', 84: 'may', 85: 'time', 86: 'being', 87: 'towards', 88: 'how', 89: 'even', 90: 'saw', 91: 'can', 92: 'night', 93: 'elizabeth', 94: 'those', 95: 'most', 96: 'such', 97: 'found', 98: 's', 99: 'ever', 100: 'mind', 101: 'any', 102: 'again', 103: 'day', 104: 'there', 105: 'heart', 106: 'felt', 107: 'whom', 108: 'death', 109: 'after', 110: 'where', 111: 'feelings', 112: 'other', 113: 'very', 114: 'thought', 115: 'dear', 116: 'soon', 117: 'friend', 118: 'up', 119: 'made', 120: 'never', 121: 'many', 122: 'still', 123: 'while', 124: 'passed', 125: 'during', 126: 'also', 127: 'thus', 128: 'miserable', 129: 'has', 130: 'must', 131: 'place', 132: 'like', 133: 'same', 134: 'heard', 135: 'became', 136: 'few', 137: 'sometimes', 138: 'us', 139: 'love', 140: 'clerval', 141: 'over', 142: 'little', 143: 'human', 144: 'appeared', 145: 'indeed', 146: 'often', 147: 'justine', 148: 'country', 149: 'misery', 150: 'words', 151: 'friends', 152: 'about', 153: 'nature', 154: 'although', 155: 'until', 156: 'several', 157: 'among', 158: 'cottage', 159: 'feel', 160: 'whose', 161: 'great', 162: 'see', 163: 'old', 164: 'away', 165: 'hope', 166: 'felix', 167: 'well', 168: 'return', 169: 'happiness', 170: 'know', 171: 'despair', 172: 'long', 173: 'through', 174: 'another', 175: 'days', 176: 'cannot', 177: 'voice', 178: 'happy', 179: 'sun', 180: 'world', 181: 'poor', 182: 'horror', 183: 'much', 184: 'years', 185: 'men', 186: 'creature', 187: 'alone', 188: 'scene', 189: 'ice', 190: 'light', 191: 'joy', 192: 'came', 193: 'fear', 194: 'affection', 195: 'house', 196: 'far', 197: 'power', 198: 'part', 199: 'near', 200: 'months', 201: 'nothing', 202: 'out', 203: 'morning', 204: 'countenance', 205: 'new', 206: 'soul', 207: 'thoughts', 208: 'two', 209: 'entered', 210: 'hands', 211: 'almost', 212: 'good', 213: 'himself', 214: 'therefore', 215: 'come', 216: 'pleasure', 217: 'mountains', 218: 'moment', 219: 'possessed', 220: 'make', 221: 'seemed', 222: 'earth', 223: 'took', 224: 'geneva', 225: 'journey', 226: 'here', 227: 'child', 228: 'gentle', 229: 'nor', 230: 'why', 231: 'left', 232: 'fiend', 233: 'sea', 234: 'discovered', 235: 'hours', 236: 'down', 237: 'kind', 238: 'lost', 239: 'spirit', 240: 'cause', 241: 'around', 242: 'continued', 243: 'become', 244: 'last', 245: 'taken', 246: 'work', 247: 'rest', 248: 'knowledge', 249: 'believe', 250: 'mother', 251: 'idea', 252: 'already', 253: 'delight', 254: 'whole', 255: 'resolved', 256: 'once', 257: 'tears', 258: 'sensations', 259: 'however', 260: 'strange', 261: 'room', 262: 'remained', 263: 'tale', 264: 'knew', 265: 'peace', 266: 'gave', 267: 'cold', 268: 'spirits', 269: 'manner', 270: 'returned', 271: 'beheld', 272: 'within', 273: 'existence', 274: 'family', 275: 'monster', 276: 'without', 277: 'present', 278: 'too', 279: 'loved', 280: 'young', 281: 'fellow', 282: 'appearance', 283: 'companion', 284: 'arrived', 285: 'mine', 286: 'think', 287: 'nearly', 288: 'looked', 289: 'letter', 290: 'sister', 291: 'native', 292: 'began', 293: 'read', 294: 'science', 295: 'placed', 296: 'oh', 297: 'desire', 298: 'girl', 299: 'lay', 300: 'change', 301: 'dark', 302: 'brought', 303: 'grief', 304: 'let', 305: 'endeavoured', 306: 'yourself', 307: 'beautiful', 308: 'victor', 309: 'feeling', 310: 'wind', 311: 'beauty', 312: 'thousand', 313: 'since', 314: 'greatest', 315: 'kindness', 316: 'rather', 317: 'replied', 318: 'air', 319: 'length', 320: 'each', 321: 'lake', 322: 'form', 323: 'food', 324: 'hardly', 325: 'murderer', 326: 'various', 327: 'under', 328: 'quickly', 329: 'town', 330: 'perceived', 331: 'beloved', 332: 'suddenly', 333: 'ground', 334: 'seek', 335: 'called', 336: 'expressed', 337: 'hand', 338: 'live', 339: 'lovely', 340: 'henry', 341: 'fire', 342: 'wood', 343: 'frankenstein', 344: 'agony', 345: 'sight', 346: 'cousin', 347: 'hour', 348: 'others', 349: 'greater', 350: 'spent', 351: 'having', 352: 'sat', 353: 'spoke', 354: 'creatures', 355: 'died', 356: 'desired', 357: 'head', 358: 'wretch', 359: 'william', 360: 'rage', 361: 'safie', 362: 'turned', 363: 'brother', 364: 'occupied', 365: 'woman', 366: 'fixed', 367: 'degree', 368: 'wretched', 369: 'state', 370: 'concerning', 371: 'die', 372: 'chapter', 373: 'filled', 374: 'natural', 375: 'always', 376: 'door', 377: 'enemy', 378: 'anguish', 379: 'revenge', 380: 'evil', 381: 'imagination', 382: 'lived', 383: 'body', 384: 'endured', 385: 'hopes', 386: 'find', 387: 'say', 388: 'destroyed', 389: 'means', 390: 'sweet', 391: 'home', 392: 'longer', 393: 'dead', 394: 'm', 395: 'wish', 396: 'free', 397: 'cottagers', 398: 'promise', 399: 'itself', 400: 'leave', 401: 'heaven', 402: 'appear', 403: 'quitted', 404: 'care', 405: 'half', 406: 'take', 407: 'end', 408: 'attention', 409: 'stranger', 410: 'destruction', 411: 'god', 412: 'beings', 413: 'followed', 414: 'sound', 415: 'unable', 416: 'murder', 417: 'agatha', 418: 'england', 419: 'remember', 420: 'sleep', 421: 'remain', 422: 'answer', 423: 'perhaps', 424: 'object', 425: 'true', 426: 'youth', 427: 'wonder', 428: 'observed', 429: 'enter', 430: 'suffered', 431: 'account', 432: 'formed', 433: 'moon', 434: 'vengeance', 435: 'calm', 436: 'land', 437: 'sufficient', 438: 'acquainted', 439: 'path', 440: 'between', 441: 'look', 442: 'went', 443: 'seen', 444: 'wished', 445: 'give', 446: 'deeply', 447: 'drew', 448: 'face', 449: 'entirely', 450: 'ill', 451: 'alas', 452: 'destroy', 453: 'against', 454: 'creator', 455: 'allowed', 456: 'trees', 457: 'murdered', 458: 'spot', 459: 'hear', 460: 'task', 461: 'just', 462: 'history', 463: 'study', 464: 'creation', 465: 'blood', 466: 'none', 467: 'sympathy', 468: 'high', 469: 'progress', 470: 'melancholy', 471: 'health', 472: 'manners', 473: 'deep', 474: 'unhappy', 475: 'language', 476: 'innocent', 477: 'children', 478: 'different', 479: 'forth', 480: 'son', 481: 'steps', 482: 'mountain', 483: 'learned', 484: 'go', 485: 'covered', 486: 'exclaimed', 487: 'sank', 488: 'dared', 489: 'pain', 490: 'approached', 491: 'discovery', 492: 'purpose', 493: 'eye', 494: 'dream', 495: 'courage', 496: 'easily', 497: 'necessary', 498: 'engaged', 499: 'consolation', 500: 'fate', 501: 'continually'}\n",
            "{'the': 2, 'and': 3, 'i': 4, 'of': 5, 'to': 6, 'my': 7, 'a': 8, 'in': 9, 'was': 10, 'that': 11, 'me': 12, 'but': 13, 'had': 14, 'with': 15, 'he': 16, 'you': 17, 'which': 18, 'it': 19, 'his': 20, 'as': 21, 'not': 22, 'for': 23, 'by': 24, 'on': 25, 'this': 26, 'from': 27, 'her': 28, 'have': 29, 'be': 30, 'when': 31, 'at': 32, 'were': 33, 'is': 34, 'she': 35, 'your': 36, 'him': 37, 'an': 38, 'they': 39, 'so': 40, 'one': 41, 'all': 42, 'could': 43, 'will': 44, 'if': 45, 'been': 46, 'their': 47, 'would': 48, 'are': 49, 'or': 50, 'we': 51, 'who': 52, 'no': 53, 'more': 54, 'now': 55, 'these': 56, 'should': 57, 'yet': 58, 'some': 59, 'before': 60, 'man': 61, 'myself': 62, 'father': 63, 'what': 64, 'them': 65, 'am': 66, 'upon': 67, 'our': 68, 'into': 69, 'its': 70, 'only': 71, 'did': 72, 'do': 73, 'life': 74, 'than': 75, 'every': 76, 'then': 77, 'first': 78, 'might': 79, 'own': 80, 'shall': 81, 'eyes': 82, 'said': 83, 'may': 84, 'time': 85, 'being': 86, 'towards': 87, 'how': 88, 'even': 89, 'saw': 90, 'can': 91, 'night': 92, 'elizabeth': 93, 'those': 94, 'most': 95, 'such': 96, 'found': 97, 's': 98, 'ever': 99, 'mind': 100, 'any': 101, 'again': 102, 'day': 103, 'there': 104, 'heart': 105, 'felt': 106, 'whom': 107, 'death': 108, 'after': 109, 'where': 110, 'feelings': 111, 'other': 112, 'very': 113, 'thought': 114, 'dear': 115, 'soon': 116, 'friend': 117, 'up': 118, 'made': 119, 'never': 120, 'many': 121, 'still': 122, 'while': 123, 'passed': 124, 'during': 125, 'also': 126, 'thus': 127, 'miserable': 128, 'has': 129, 'must': 130, 'place': 131, 'like': 132, 'same': 133, 'heard': 134, 'became': 135, 'few': 136, 'sometimes': 137, 'us': 138, 'love': 139, 'clerval': 140, 'over': 141, 'little': 142, 'human': 143, 'appeared': 144, 'indeed': 145, 'often': 146, 'justine': 147, 'country': 148, 'misery': 149, 'words': 150, 'friends': 151, 'about': 152, 'nature': 153, 'although': 154, 'until': 155, 'several': 156, 'among': 157, 'cottage': 158, 'feel': 159, 'whose': 160, 'great': 161, 'see': 162, 'old': 163, 'away': 164, 'hope': 165, 'felix': 166, 'well': 167, 'return': 168, 'happiness': 169, 'know': 170, 'despair': 171, 'long': 172, 'through': 173, 'another': 174, 'days': 175, 'cannot': 176, 'voice': 177, 'happy': 178, 'sun': 179, 'world': 180, 'poor': 181, 'horror': 182, 'much': 183, 'years': 184, 'men': 185, 'creature': 186, 'alone': 187, 'scene': 188, 'ice': 189, 'light': 190, 'joy': 191, 'came': 192, 'fear': 193, 'affection': 194, 'house': 195, 'far': 196, 'power': 197, 'part': 198, 'near': 199, 'months': 200, 'nothing': 201, 'out': 202, 'morning': 203, 'countenance': 204, 'new': 205, 'soul': 206, 'thoughts': 207, 'two': 208, 'entered': 209, 'hands': 210, 'almost': 211, 'good': 212, 'himself': 213, 'therefore': 214, 'come': 215, 'pleasure': 216, 'mountains': 217, 'moment': 218, 'possessed': 219, 'make': 220, 'seemed': 221, 'earth': 222, 'took': 223, 'geneva': 224, 'journey': 225, 'here': 226, 'child': 227, 'gentle': 228, 'nor': 229, 'why': 230, 'left': 231, 'fiend': 232, 'sea': 233, 'discovered': 234, 'hours': 235, 'down': 236, 'kind': 237, 'lost': 238, 'spirit': 239, 'cause': 240, 'around': 241, 'continued': 242, 'become': 243, 'last': 244, 'taken': 245, 'work': 246, 'rest': 247, 'knowledge': 248, 'believe': 249, 'mother': 250, 'idea': 251, 'already': 252, 'delight': 253, 'whole': 254, 'resolved': 255, 'once': 256, 'tears': 257, 'sensations': 258, 'however': 259, 'strange': 260, 'room': 261, 'remained': 262, 'tale': 263, 'knew': 264, 'peace': 265, 'gave': 266, 'cold': 267, 'spirits': 268, 'manner': 269, 'returned': 270, 'beheld': 271, 'within': 272, 'existence': 273, 'family': 274, 'monster': 275, 'without': 276, 'present': 277, 'too': 278, 'loved': 279, 'young': 280, 'fellow': 281, 'appearance': 282, 'companion': 283, 'arrived': 284, 'mine': 285, 'think': 286, 'nearly': 287, 'looked': 288, 'letter': 289, 'sister': 290, 'native': 291, 'began': 292, 'read': 293, 'science': 294, 'placed': 295, 'oh': 296, 'desire': 297, 'girl': 298, 'lay': 299, 'change': 300, 'dark': 301, 'brought': 302, 'grief': 303, 'let': 304, 'endeavoured': 305, 'yourself': 306, 'beautiful': 307, 'victor': 308, 'feeling': 309, 'wind': 310, 'beauty': 311, 'thousand': 312, 'since': 313, 'greatest': 314, 'kindness': 315, 'rather': 316, 'replied': 317, 'air': 318, 'length': 319, 'each': 320, 'lake': 321, 'form': 322, 'food': 323, 'hardly': 324, 'murderer': 325, 'various': 326, 'under': 327, 'quickly': 328, 'town': 329, 'perceived': 330, 'beloved': 331, 'suddenly': 332, 'ground': 333, 'seek': 334, 'called': 335, 'expressed': 336, 'hand': 337, 'live': 338, 'lovely': 339, 'henry': 340, 'fire': 341, 'wood': 342, 'frankenstein': 343, 'agony': 344, 'sight': 345, 'cousin': 346, 'hour': 347, 'others': 348, 'greater': 349, 'spent': 350, 'having': 351, 'sat': 352, 'spoke': 353, 'creatures': 354, 'died': 355, 'desired': 356, 'head': 357, 'wretch': 358, 'william': 359, 'rage': 360, 'safie': 361, 'turned': 362, 'brother': 363, 'occupied': 364, 'woman': 365, 'fixed': 366, 'degree': 367, 'wretched': 368, 'state': 369, 'concerning': 370, 'die': 371, 'chapter': 372, 'filled': 373, 'natural': 374, 'always': 375, 'door': 376, 'enemy': 377, 'anguish': 378, 'revenge': 379, 'evil': 380, 'imagination': 381, 'lived': 382, 'body': 383, 'endured': 384, 'hopes': 385, 'find': 386, 'say': 387, 'destroyed': 388, 'means': 389, 'sweet': 390, 'home': 391, 'longer': 392, 'dead': 393, 'm': 394, 'wish': 395, 'free': 396, 'cottagers': 397, 'promise': 398, 'itself': 399, 'leave': 400, 'heaven': 401, 'appear': 402, 'quitted': 403, 'care': 404, 'half': 405, 'take': 406, 'end': 407, 'attention': 408, 'stranger': 409, 'destruction': 410, 'god': 411, 'beings': 412, 'followed': 413, 'sound': 414, 'unable': 415, 'murder': 416, 'agatha': 417, 'england': 418, 'remember': 419, 'sleep': 420, 'remain': 421, 'answer': 422, 'perhaps': 423, 'object': 424, 'true': 425, 'youth': 426, 'wonder': 427, 'observed': 428, 'enter': 429, 'suffered': 430, 'account': 431, 'formed': 432, 'moon': 433, 'vengeance': 434, 'calm': 435, 'land': 436, 'sufficient': 437, 'acquainted': 438, 'path': 439, 'between': 440, 'look': 441, 'went': 442, 'seen': 443, 'wished': 444, 'give': 445, 'deeply': 446, 'drew': 447, 'face': 448, 'entirely': 449, 'ill': 450, 'alas': 451, 'destroy': 452, 'against': 453, 'creator': 454, 'allowed': 455, 'trees': 456, 'murdered': 457, 'spot': 458, 'hear': 459, 'task': 460, 'just': 461, 'history': 462, 'study': 463, 'creation': 464, 'blood': 465, 'none': 466, 'sympathy': 467, 'high': 468, 'progress': 469, 'melancholy': 470, 'health': 471, 'manners': 472, 'deep': 473, 'unhappy': 474, 'language': 475, 'innocent': 476, 'children': 477, 'different': 478, 'forth': 479, 'son': 480, 'steps': 481, 'mountain': 482, 'learned': 483, 'go': 484, 'covered': 485, 'exclaimed': 486, 'sank': 487, 'dared': 488, 'pain': 489, 'approached': 490, 'discovery': 491, 'purpose': 492, 'eye': 493, 'dream': 494, 'courage': 495, 'easily': 496, 'necessary': 497, 'engaged': 498, 'consolation': 499, 'fate': 500, 'continually': 501}\n"
          ]
        }
      ]
    },
    {
      "cell_type": "code",
      "source": [
        "window_size = 1     # cantidad de palabras por prediccion\n",
        "n = wSize           # cantidad de predicciones (si pongo mas no se por que se rompe, algo con el tipo de datos)\n",
        "\n",
        "# Defino texto inicial\n",
        "greedy_sentence = text_to_word_sequence('Hello, my name is Frankenstein and I am a good monster, so i am not going to kill you and your family')[:wSize]\n",
        "print(greedy_sentence)\n",
        "\n",
        "# Defino secuencia asociada al texto\n",
        "greedy_sequence = [word2idx[word] if word in word2idx else 1 for word in greedy_sentence]\n",
        "#print(greedy_sequence)\n",
        "\n",
        "# Utilizo greedy search\n",
        "out = \"\"\n",
        "aux_sequence = greedy_sequence\n",
        "for i in range(n):\n",
        "    predicted = model.predict([greedy_sequence], verbose=0)\n",
        "    next = np.argmax(predicted)\n",
        "    greedy_sequence = greedy_sequence[1:] + [next]\n",
        "    predicted = idx2word[next]\n",
        "    out += predicted\n",
        "    out += ' '\n",
        "print(out)"
      ],
      "metadata": {
        "colab": {
          "base_uri": "https://localhost:8080/"
        },
        "id": "LDj8QiNEEe9b",
        "outputId": "ff7bcaf8-c3f7-40e0-ee78-26c4302a4641"
      },
      "execution_count": null,
      "outputs": [
        {
          "output_type": "stream",
          "name": "stdout",
          "text": [
            "['hello', 'my', 'name', 'is', 'frankenstein', 'and', 'i', 'am', 'a', 'good', 'monster', 'so', 'i', 'am', 'not', 'going', 'to', 'kill', 'you', 'and']\n",
            "a little did me with horror i have never those who love come over your which you victor you have \n"
          ]
        }
      ]
    },
    {
      "cell_type": "markdown",
      "source": [
        "### Greedy Search + T"
      ],
      "metadata": {
        "id": "aWmnW2e5A92O"
      }
    },
    {
      "cell_type": "code",
      "source": [
        "def temperature(x, T):\n",
        "\n",
        "    z = [y**(1/T) / np.sum(x**(1/T)) for y in x]\n",
        "    return z / np.sum(z)"
      ],
      "metadata": {
        "id": "y_pvlH2FCRmN"
      },
      "execution_count": null,
      "outputs": []
    },
    {
      "cell_type": "code",
      "source": [
        "window_size = 1                             # cantidad de palabras por prediccion\n",
        "n = wSize                                   # cantidad de predicciones (si pongo mas no se por que se rompe, algo con el tipo de datos)\n",
        "Ts = [10 ** (i/4) for i in range(-2, 3)]    # temperaturas\n",
        "\n",
        "# Defino texto inicial\n",
        "greedy_sentence = text_to_word_sequence('Hello, my name is Frankenstein and I am a good monster, so i am not going to kill you and your family')[:wSize]\n",
        "print(greedy_sentence)\n",
        "\n",
        "# Defino secuencia asociada al texto\n",
        "greedy_sequence = [word2idx[word] if word in word2idx else 1 for word in greedy_sentence]\n",
        "#print(greedy_sequence)\n",
        "\n",
        "plt.figure(figsize=(15, 6))\n",
        "xlim = 15\n",
        "ticks = []\n",
        "\n",
        "# Utilizo greedy search y T\n",
        "for t in Ts:\n",
        "    out = \"\"\n",
        "    aux_sequence = greedy_sequence\n",
        "    for i in range(n):\n",
        "        predicted = model.predict([aux_sequence], verbose=0)[0]\n",
        "\n",
        "        if i == 0 and t == 1:\n",
        "            for t2 in Ts:\n",
        "                predicted_t = temperature(predicted, t2)\n",
        "                plt.bar(np.arange(0, len(predicted_t)), sorted(predicted_t, reverse=True), alpha=0.5, label='T='+str(t2))\n",
        "                ticks = [idx2word[x] for x in np.argsort(predicted_t)[-1:-xlim-1:-1]]\n",
        "\n",
        "        predicted = temperature(predicted, t)\n",
        "        next = np.random.choice(list(reverse_dictionary.keys()), size=1, p=predicted[2:]/np.sum(predicted[2:]))[0]\n",
        "        aux_sequence = list(aux_sequence[1:]) + list([next])\n",
        "        predicted = idx2word[next]\n",
        "        out += predicted\n",
        "        out += ' '\n",
        "\n",
        "    print('T =', \"{:.2f}\".format(t), ': ', out)\n",
        "\n",
        "plt.xlim(-0.5, xlim-0.5)\n",
        "plt.legend()\n",
        "plt.xticks(np.arange(0, xlim), ticks[:xlim])\n",
        "plt.title('Probabilidades de la primera palabra a predecir')\n",
        "plt.show()"
      ],
      "metadata": {
        "colab": {
          "base_uri": "https://localhost:8080/",
          "height": 649
        },
        "id": "dwuj1Amju0Se",
        "outputId": "70e3404e-d619-4e2d-e5ae-54b6fef2d0b6"
      },
      "execution_count": null,
      "outputs": [
        {
          "output_type": "stream",
          "name": "stdout",
          "text": [
            "['hello', 'my', 'name', 'is', 'frankenstein', 'and', 'i', 'am', 'a', 'good', 'monster', 'so', 'i', 'am', 'not', 'going', 'to', 'kill', 'you', 'and']\n",
            "T = 0.32 :  a little did it if you have always and do not my is human mind if this should be the \n",
            "T = 0.56 :  a remember me frankenstein i am it if you have none of such man not you have entirely destroyed the \n",
            "T = 1.00 :  to feel this if you would cause in these and but you to my first natural and with and man \n",
            "T = 1.78 :  to return to those of that one my always will from your promise i possessed no human mind no one \n",
            "T = 3.16 :  in to our now found a companion there or come how i should it with a gentle victor such one \n"
          ]
        },
        {
          "output_type": "display_data",
          "data": {
            "text/plain": [
              "<Figure size 1500x600 with 1 Axes>"
            ],
            "image/png": "[encoded data removed]"
          },
          "metadata": {}
        }
      ]
    },
    {
      "cell_type": "markdown",
      "source": [
        "### Beam Search + T"
      ],
      "metadata": {
        "id": "acy7nvO8dyDQ"
      }
    },
    {
      "cell_type": "code",
      "source": [
        "def stochastic_beam_search(prev_sequence, num_candidates, max_length, t):\n",
        "\n",
        "    # Realizo la predicción actual\n",
        "    predicted = model.predict([prev_sequence], verbose=0)\n",
        "    predicted = temperature(predicted[0], t)\n",
        "\n",
        "    # Calculo num_candidates a partir de la predicción\n",
        "    next_s = np.random.choice(list(reverse_dictionary.keys()), size=num_candidates, replace=False, p=predicted[2:]/np.sum(predicted[2:]))\n",
        "    next_pos_w = [reverse_dictionary[x] for x in next_s]\n",
        "    next_p = sorted(predicted, reverse=True)[:num_candidates]\n",
        "    next_w = ''\n",
        "\n",
        "    if max_length > 1:\n",
        "\n",
        "        p = np.zeros((num_candidates, max_length-1))    # vector de probabilidades de cada beam\n",
        "        s = np.zeros((num_candidates, max_length-1))    # id de palabras de cada beam\n",
        "        w = ['' for x in range(num_candidates)]         # palabras de cada beam\n",
        "        select_p = np.zeros(num_candidates)\n",
        "        select_s = np.zeros(num_candidates)\n",
        "\n",
        "        # Calculo el beam en cada uno de los candidatos recursivamente, si todavía no esta completo el beam\n",
        "        for i in range(num_candidates):\n",
        "            #print('Entro con:', reverse_dictionary[prev_sequence[-1]], [reverse_dictionary[x] if x in reverse_dictionary.keys() else 'UNK' for x in list(prev_sequence[1:]) + list([next_s[i]])])\n",
        "            s[i], p[i] = stochastic_beam_search(list(prev_sequence[1:]) + list([next_s[i]]), num_candidates, max_length-1, t)\n",
        "            #print(s[i], reverse_dictionary[s[i][0]])\n",
        "            w[i] = [reverse_dictionary[x] for x in s[i]]\n",
        "            #print('Salgo con:', reverse_dictionary[prev_sequence[-1]], [next_pos_w[i]], w[i], p[i])\n",
        "            next_pos_w[i] = [next_pos_w[i]] + w[i]\n",
        "\n",
        "        #print('next pos:', next_pos_w)\n",
        "\n",
        "        # Calculo probabilidades\n",
        "        for j in range(num_candidates):\n",
        "            select_p[j] = np.random.choice(p[j], size=1, p=p[j]/np.sum(p[j]))[0]\n",
        "            next_p[j] = next_p[j] * select_p[j]\n",
        "\n",
        "        # Guardo frase más probable\n",
        "        idx = np.argmax(next_p)\n",
        "        next_w = next_pos_w[idx]\n",
        "        next_p = next_p[idx]\n",
        "        #print('w:', next_w)\n",
        "        next_s = [dictionary[x] for x in next_w]\n",
        "        #print('s:', next_s)\n",
        "\n",
        "    else:\n",
        "\n",
        "        next_w = next_pos_w[0]\n",
        "        next_p = next_p[0]\n",
        "        next_s = next_s[0]\n",
        "\n",
        "    # Devuelve la palabra mas probable y su probabilidad condicional\n",
        "    #print('Fin:', max_length, reverse_dictionary[prev_sequence[-1]], next_w, next_p, next_s)\n",
        "    return next_s, next_p"
      ],
      "metadata": {
        "id": "iV8mAYEoeWha"
      },
      "execution_count": null,
      "outputs": []
    },
    {
      "cell_type": "code",
      "source": [
        "beam_sentence = text_to_word_sequence('Hello, my name is Frankenstein and I am a good monster, so i am not going to kill you and your family')[:wSize]\n",
        "beam_sequence = [word2idx[word] if word in word2idx else 1 for word in greedy_sentence]\n",
        "print(beam_sentence)\n",
        "print('\\nPredicciones: ')\n",
        "\n",
        "# Complejidad O(M^N)\n",
        "# Parametros\n",
        "num_candidates = 3    # M\n",
        "num_predicts = 5      # N\n",
        "t = 1\n",
        "\n",
        "# Utilizo greedy search y T\n",
        "for t in Ts:\n",
        "    out = \"\"\n",
        "    aux_sequence = beam_sequence\n",
        "    pred_s, pred_p = stochastic_beam_search(beam_sequence, num_candidates, num_predicts, t)\n",
        "    pred_w = [reverse_dictionary[x] for x in pred_s]\n",
        "    print('T =', \"{:.2f}\".format(t), ': ', pred_w)"
      ],
      "metadata": {
        "colab": {
          "base_uri": "https://localhost:8080/"
        },
        "id": "GDiiY7vwjuPm",
        "outputId": "263b124a-e74e-42f9-9e47-f9d6f905c89f"
      },
      "execution_count": null,
      "outputs": [
        {
          "output_type": "stream",
          "name": "stdout",
          "text": [
            "['hello', 'my', 'name', 'is', 'frankenstein', 'and', 'i', 'am', 'a', 'good', 'monster', 'so', 'i', 'am', 'not', 'going', 'to', 'kill', 'you', 'and']\n",
            "\n",
            "Predicciones: \n",
            "T = 0.10 :  ['a', 'little', 'did', 'it', 'if']\n",
            "T = 0.32 :  ['a', 'little', 'one', 'thought', 'these']\n",
            "T = 1.00 :  ['my', 'cousin', 'of', 'home', 'friends']\n",
            "T = 3.16 :  ['to', 'feel', 'those', 'consolation', 'for']\n",
            "T = 10.00 :  ['beheld', 'her', 'revenge', 'while', 'thus']\n",
            "T = 31.62 :  ['companion', 'means', 'cottagers', 'nearly', 'days']\n",
            "T = 100.00 :  ['whom', 'work', 'also', 'entered', 'half']\n"
          ]
        }
      ]
    }
  ],
  "metadata": {
    "accelerator": "GPU",
    "colab": {
      "provenance": [],
      "gpuType": "T4"
    },
    "kernelspec": {
      "display_name": "Python 3",
      "name": "python3"
    },
    "language_info": {
      "name": "python"
    }
  },
  "nbformat": 4,
  "nbformat_minor": 0
}